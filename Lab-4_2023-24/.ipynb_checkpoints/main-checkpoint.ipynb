{
 "cells": [
  {
   "cell_type": "code",
   "execution_count": null,
   "id": "6066a64a-b43b-4e75-bda2-e1c2a6c8f19e",
   "metadata": {},
   "outputs": [],
   "source": [
    "n <- 200\n",
    "a <- 2\n",
    "b <- 3\n",
    "epsilon <- rnorm(n, 0, 1)"
   ]
  },
  {
   "cell_type": "markdown",
   "id": "054f96ca-357f-43b6-ac4f-e021f92be6ff",
   "metadata": {},
   "source": [
    "# Часть 1"
   ]
  },
  {
   "cell_type": "markdown",
   "id": "173e2068-1e61-45cd-b963-b09e52a1f8a5",
   "metadata": {},
   "source": [
    "$$y_{i} = a + b\\,x_{i} ​+ ε_{i}​, \\quad ε_{i}​ ∼ N(0,σ^2),\\quad i=\\overline{1,n}$$"
   ]
  },
  {
   "cell_type": "code",
   "execution_count": null,
   "id": "f0f98b46-97dc-4015-b7ce-c9b16d423bc4",
   "metadata": {},
   "outputs": [],
   "source": [
    "x <- rnorm(n, 0, .8)\n",
    "y <- a + b * x + epsilon\n",
    "plot(y~x)\n",
    "summary(lm(y ~ x))\n",
    "abline(lm(y ~ x))\n"
   ]
  },
  {
   "cell_type": "markdown",
   "id": "8ef24ee7-6beb-4576-8f25-635caaacd344",
   "metadata": {},
   "source": [
    "Для случая `парной линейной регрессии`\n",
    "$${\\displaystyle {\\hat {b}}={\\frac {\\sum _{t=1}^{n}x_{t}y_{t}}{\\sum _{t=1}^{n}x_{t}^{2}}}}$$\n",
    "$$ \\hat{a} = \\overline{y} + \\hat{b}\\,\\overline{x} $$"
   ]
  },
  {
   "cell_type": "code",
   "execution_count": null,
   "id": "ec08b976-7084-4513-a9e9-98163539cb1a",
   "metadata": {},
   "outputs": [],
   "source": [
    "b_est <- sum(x,y)/sum(x^2)\n",
    "a_est <- mean(y) - b_est*mean(x)\n",
    "a_est\n",
    "b_est\n",
    "y_est <- a_est+b_est*x"
   ]
  },
  {
   "attachments": {},
   "cell_type": "markdown",
   "id": "9f2a7dfb-ba12-4d02-a880-009b5f07f81c",
   "metadata": {},
   "source": [
    "Коэффент детерминации <br>\n",
    "$ R^{2} = 1 - \\,\\frac{RSS}{TSS} $ <br>\n",
    "$ RSS = \\sum{(y_{i}-\\hat{y}_{i})^{2}}$ <br>\n",
    "$ TSS = \\sum{(y_{i}-\\overline{y}_{i})^{2}}$"
   ]
  },
  {
   "cell_type": "code",
   "execution_count": null,
   "id": "19e9bfae-6c42-4169-b14b-208c7e321ed1",
   "metadata": {},
   "outputs": [],
   "source": [
    "RSS <- sum((y-y_est)^2)\n",
    "TSS <- sum((y-mean(y))^2)\n",
    "R_2 <- 1- RSS/TSS\n",
    "RSS\n",
    "TSS\n",
    "R_2"
   ]
  },
  {
   "cell_type": "markdown",
   "id": "f45ca411-1a2b-4ee7-a628-7a08fd30b348",
   "metadata": {},
   "source": [
    "Гипотеза о о адкветности модели\n",
    "$$ F = \\frac{R^2}{1-R^2}\\,(n-2)$$"
   ]
  },
  {
   "cell_type": "code",
   "execution_count": null,
   "id": "83824f7d-ae71-43e9-95da-79b0d40560c8",
   "metadata": {},
   "outputs": [],
   "source": [
    "F <- (R_2/(1-R_2))*(n-2)\n",
    "F\n",
    "qf(1 - .05, 1, n-2) #Крит значение статистики"
   ]
  },
  {
   "cell_type": "markdown",
   "id": "e1b25981-3fc3-4d3c-8ac0-e7e12526b9f8",
   "metadata": {},
   "source": [
    "Среднеквадратическая ошибка \n",
    "$$ S^2 = \\frac{1}{n-2} \\sum_{i=1}^{n} (y_i - \\hat{y}_i)^2$$\n",
    "Стандартная ошибка оценки \n",
    "$$ S = \\sqrt{S^2}$$\n",
    "Оценка дисперсии коэффициента наклона:\n",
    "$$S^2_{b} = \\frac{S^2}{\\sum_{i=1}^{n} (x_i - \\bar{x})^2}$$\n",
    "Стандартная ошибка оценки коэффициента наклона SbSb​:\n",
    "$$S_{b} = \\sqrt{S^2_{b}}$$\n",
    "Оценка дисперсии коэффициента сдвига\n",
    "$$S^2_{a} = S^2 \\cdot \\frac{\\bar{x}^2}{\\sum_{i=1}^{n} (x_i - \\bar{x})^2}$$\n",
    "Стандартная ошибка оценки коэффициента сдвига\n",
    "$$S_{a} = \\sqrt{S^2_{a}}$$\n",
    "t-статистика для коэффициента сдвига и наклона:\n",
    "$$t = \\frac{\\text{оцененное значение коэффициента}}{\\text{стандартная ошибка оценки коэффициента}}$$"
   ]
  },
  {
   "cell_type": "code",
   "execution_count": null,
   "id": "cdc116f6-9707-420f-8551-b8d239b6e85d",
   "metadata": {},
   "outputs": [],
   "source": [
    "S2 <- sum((y - y_est)^2) / (n - 2)\n",
    "SE <- sqrt(S2)\n",
    "S2_b <- S2 / sum((x - mean(x))^2)\n",
    "SE_b <- sqrt(S2_b)\n",
    "S2_a <- S2 * (mean(x^2)) / sum((x - mean(x))^2)\n",
    "SE_a <- sqrt(S2_a)\n",
    "t_value_a <- a_est / SE_a\n",
    "t_value_b <- b_est / SE_b\n",
    "t_value_a\n",
    "t_value_b\n",
    "qt(1 - .05/2, df = n - 2) #квантиль t распределения"
   ]
  },
  {
   "cell_type": "markdown",
   "id": "78faedc4-8123-47d7-91c5-9f3525041268",
   "metadata": {},
   "source": [
    "# Часть 2"
   ]
  },
  {
   "cell_type": "markdown",
   "id": "9f91cdc1-b570-4dec-b019-2b3e7c61a734",
   "metadata": {},
   "source": [
    "$$y_{i} = a\\,x_{i}^{b}\\,ε_{i}​, \\quad ln(ε_{i})​ ∼ N(0,σ^2),\\quad i=\\overline{1,n}$$"
   ]
  },
  {
   "cell_type": "code",
   "execution_count": null,
   "id": "c565eccf-743e-426b-8dc0-3e25001d8fd7",
   "metadata": {},
   "outputs": [],
   "source": [
    "epsilon <- rlnorm(n, 0, .8)\n",
    "i <- 1:n"
   ]
  },
  {
   "cell_type": "code",
   "execution_count": null,
   "id": "2b098d6e-861e-479e-b94b-c2c59f7b4324",
   "metadata": {},
   "outputs": [],
   "source": [
    "x <- 1+0.1*i\n",
    "y <- a*(x^b)*epsilon\n",
    "x <-log(x)\n",
    "y <-log(y)\n",
    "plot(y~x)\n",
    "plot(exp(y)~exp(x))"
   ]
  },
  {
   "cell_type": "code",
   "execution_count": null,
   "id": "64dd3cee-0e16-4252-8931-841018cdb5b8",
   "metadata": {},
   "outputs": [],
   "source": [
    "plot(y~x)\n",
    "reg <- lm(y~x)\n",
    "summary(reg)\n",
    "abline(reg)"
   ]
  },
  {
   "cell_type": "markdown",
   "id": "0d3cf60b-67fa-4237-8375-26c693548ea2",
   "metadata": {},
   "source": [
    "`summary(reg)` выведет значения для линейной модели. Необходимо `exp(Коэффиценты)` "
   ]
  },
  {
   "cell_type": "code",
   "execution_count": null,
   "id": "b6f8bfa0-05ac-4ff3-93b5-af5947662ec0",
   "metadata": {},
   "outputs": [],
   "source": [
    "exp(reg$coefficients)"
   ]
  },
  {
   "cell_type": "code",
   "execution_count": null,
   "id": "470adbbf-191f-4be8-aa37-f4feb431141a",
   "metadata": {},
   "outputs": [],
   "source": [
    "b_est <- sum(x,y)/sum(x^2)\n",
    "a_est <- mean(y) - b_est*mean(x)\n",
    "a_est\n",
    "b_est"
   ]
  },
  {
   "cell_type": "code",
   "execution_count": null,
   "id": "ebb61566-2d3e-4fd9-bb89-c074a9615897",
   "metadata": {},
   "outputs": [],
   "source": [
    "y_est <- a_est+b_est*x\n",
    "RSS <- sum((y-y_est)^2)\n",
    "TSS <- sum((y-mean(y))^2)\n",
    "R_2 <- 1- RSS/TSS\n",
    "RSS\n",
    "TSS\n",
    "R_2"
   ]
  },
  {
   "cell_type": "code",
   "execution_count": null,
   "id": "7fa9979d-85e0-4ffd-b2e7-bd4a0d900176",
   "metadata": {},
   "outputs": [],
   "source": [
    "F <- (R_2/(1-R_2))*(n-2)\n",
    "F\n",
    "qf(1 - .05, 1, n-2) #Крит значение статистики"
   ]
  },
  {
   "cell_type": "code",
   "execution_count": null,
   "id": "fc716ffa-24dc-44b4-ae2a-094318bb2f64",
   "metadata": {
    "scrolled": true
   },
   "outputs": [],
   "source": [
    "S2 <- sum((y - y_est)^2) / (n - 2)\n",
    "SE <- sqrt(S2)\n",
    "S2_b <- S2 / sum((x - mean(x))^2)\n",
    "SE_b <- sqrt(S2_b)\n",
    "S2_a <- S2 * (mean(x^2)) / sum((x - mean(x))^2)\n",
    "SE_a <- sqrt(S2_a)\n",
    "t_value_a <- a_est / SE_a\n",
    "t_value_b <- b_est / SE_b\n",
    "t_value_a\n",
    "t_value_b\n",
    "qt(1 - .05/2, df = n - 2) #квантиль t распределения"
   ]
  },
  {
   "cell_type": "markdown",
   "id": "3b4ecadb-d4f6-4a61-9bf7-2fd92653c22d",
   "metadata": {},
   "source": [
    "# Часть 3"
   ]
  },
  {
   "cell_type": "markdown",
   "id": "14e3efff-6343-4c6a-8053-2e1af5a51761",
   "metadata": {},
   "source": [
    "$$y_{i} = a\\,e^{b\\,x_{i}}\\,ε_{i}​, \\quad ln(ε_{i})​ ∼ N(0,σ^2),\\quad i=\\overline{1,n}$$"
   ]
  },
  {
   "cell_type": "code",
   "execution_count": null,
   "id": "07a8fbde-29da-4016-9b39-0cfed089ede5",
   "metadata": {},
   "outputs": [],
   "source": [
    "epsilon <- rlnorm(n, 0, .8)\n",
    "i <- 1:n"
   ]
  },
  {
   "cell_type": "code",
   "execution_count": null,
   "id": "d29fdbcb-4a47-490b-a59d-fd8c86d8512b",
   "metadata": {},
   "outputs": [],
   "source": [
    "x <- 1 + .04 * i\n",
    "y <- a * exp(b * x) * epsilon\n",
    "\n",
    "y <- log(y)\n",
    "\n",
    "plot(y ~ x)\n",
    "plot(exp(y) ~ x)"
   ]
  },
  {
   "cell_type": "code",
   "execution_count": null,
   "id": "01ec8d66-55c1-4a7e-9bdb-52a8054e8419",
   "metadata": {},
   "outputs": [],
   "source": [
    "plot(y~x)\n",
    "reg <- lm(y~x)\n",
    "summary(reg)\n",
    "abline(reg)"
   ]
  },
  {
   "cell_type": "markdown",
   "id": "058f2cd5-5946-4a38-82e4-bda26b06135a",
   "metadata": {},
   "source": [
    "`summary(reg)` выведет значения для линейной модели. Необходимо `exp(Коэффиценты)` "
   ]
  },
  {
   "cell_type": "code",
   "execution_count": null,
   "id": "c70590ad-ea05-4663-ad22-ee38127dac2e",
   "metadata": {},
   "outputs": [],
   "source": [
    "exp(reg$coefficients[1])"
   ]
  },
  {
   "cell_type": "code",
   "execution_count": null,
   "id": "0dfa2808-c9f2-448f-b729-94b5c414fb20",
   "metadata": {},
   "outputs": [],
   "source": [
    "b_est <- sum(x,y)/sum(x^2)\n",
    "a_est <- mean(y) - b_est*mean(x)\n",
    "a_est\n",
    "b_est"
   ]
  },
  {
   "cell_type": "code",
   "execution_count": null,
   "id": "e964cfbb-150f-4e8b-94fd-4ca11b8e5f03",
   "metadata": {},
   "outputs": [],
   "source": [
    "y_est <- a_est+b_est*x\n",
    "RSS <- sum((y-y_est)^2)\n",
    "TSS <- sum((y-mean(y))^2)\n",
    "R_2 <- 1- RSS/TSS\n",
    "RSS\n",
    "TSS\n",
    "R_2"
   ]
  },
  {
   "cell_type": "code",
   "execution_count": null,
   "id": "9e8041af-3d55-4ca4-9920-68dc17a68850",
   "metadata": {},
   "outputs": [],
   "source": [
    "F <- (R_2/(1-R_2))*(n-2)\n",
    "F\n",
    "qf(1 - .05, 1, n-2) #Крит значение статистики"
   ]
  },
  {
   "cell_type": "code",
   "execution_count": null,
   "id": "dcdcce3b-a5df-4e61-8914-c58792caa879",
   "metadata": {
    "scrolled": true
   },
   "outputs": [],
   "source": [
    "S2 <- sum((y - y_est)^2) / (n - 2)\n",
    "SE <- sqrt(S2)\n",
    "S2_b <- S2 / sum((x - mean(x))^2)\n",
    "SE_b <- sqrt(S2_b)\n",
    "S2_a <- S2 * (mean(x^2)) / sum((x - mean(x))^2)\n",
    "SE_a <- sqrt(S2_a)\n",
    "t_value_a <- a_est / SE_a\n",
    "t_value_b <- b_est / SE_b\n",
    "t_value_a\n",
    "t_value_b\n",
    "qt(1 - .05/2, df = n - 2) #квантиль t распределения"
   ]
  }
 ],
 "metadata": {
  "kernelspec": {
   "display_name": "R",
   "language": "R",
   "name": "ir"
  },
  "language_info": {
   "codemirror_mode": "r",
   "file_extension": ".r",
   "mimetype": "text/x-r-source",
   "name": "R",
   "pygments_lexer": "r",
   "version": "4.3.2"
  }
 },
 "nbformat": 4,
 "nbformat_minor": 5
}
