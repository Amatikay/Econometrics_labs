{
 "cells": [
  {
   "cell_type": "markdown",
   "id": "113191f3-f229-4d86-ac90-f24f8c37226b",
   "metadata": {},
   "source": [
    "# 1"
   ]
  },
  {
   "cell_type": "code",
   "execution_count": 1,
   "id": "92328ec4-bd59-439a-a404-85378a825d05",
   "metadata": {},
   "outputs": [],
   "source": [
    "data <- read.csv(file = \"../Data/7.csv\")"
   ]
  },
  {
   "cell_type": "code",
   "execution_count": 2,
   "id": "acd7fa2d-fc2b-448f-9437-5e072482384d",
   "metadata": {},
   "outputs": [
    {
     "data": {
      "text/html": [
       "<table class=\"dataframe\">\n",
       "<caption>A data.frame: 9 × 9</caption>\n",
       "<thead>\n",
       "\t<tr><th scope=col>I</th><th scope=col>Y</th><th scope=col>C</th><th scope=col>Q</th><th scope=col>P</th><th scope=col>R</th><th scope=col>Y_1</th><th scope=col>C_1</th><th scope=col>Q_1</th></tr>\n",
       "\t<tr><th scope=col>&lt;int&gt;</th><th scope=col>&lt;int&gt;</th><th scope=col>&lt;int&gt;</th><th scope=col>&lt;dbl&gt;</th><th scope=col>&lt;int&gt;</th><th scope=col>&lt;int&gt;</th><th scope=col>&lt;int&gt;</th><th scope=col>&lt;int&gt;</th><th scope=col>&lt;dbl&gt;</th></tr>\n",
       "</thead>\n",
       "<tbody>\n",
       "\t<tr><td>   2370</td><td>   5328</td><td>   7500</td><td>  11390.5</td><td>210</td><td>   1300</td><td>    310</td><td>   450</td><td>    725.6</td></tr>\n",
       "\t<tr><td>  27125</td><td>  49730</td><td>  40600</td><td>  76961.7</td><td>220</td><td>  18500</td><td>   5328</td><td>  7500</td><td>  11390.5</td></tr>\n",
       "\t<tr><td> 108810</td><td> 172380</td><td> 124000</td><td> 251944.4</td><td>238</td><td> 129000</td><td>  49730</td><td> 40600</td><td>  76961.7</td></tr>\n",
       "\t<tr><td> 266974</td><td> 437007</td><td> 310000</td><td> 662374.4</td><td>195</td><td> 384000</td><td> 172380</td><td>124000</td><td> 251944.4</td></tr>\n",
       "\t<tr><td> 375998</td><td> 558500</td><td> 260000</td><td> 780819.2</td><td>208</td><td>1108000</td><td> 437007</td><td>310000</td><td> 662374.4</td></tr>\n",
       "\t<tr><td> 408797</td><td> 711600</td><td> 390000</td><td> 881001.1</td><td>229</td><td>1469000</td><td> 558500</td><td>260000</td><td> 780819.2</td></tr>\n",
       "\t<tr><td> 407086</td><td> 686000</td><td> 490000</td><td>1032768.6</td><td>204</td><td>1626000</td><td> 711600</td><td>390000</td><td> 881001.1</td></tr>\n",
       "\t<tr><td> 970439</td><td>1213600</td><td> 990000</td><td>2050276.8</td><td>180</td><td>1707000</td><td> 686000</td><td>490000</td><td>1032768.6</td></tr>\n",
       "\t<tr><td>1165181</td><td>2097700</td><td>1650000</td><td>3033247.2</td><td>181</td><td>3150000</td><td>1213600</td><td>990000</td><td>2050276.8</td></tr>\n",
       "</tbody>\n",
       "</table>\n"
      ],
      "text/latex": [
       "A data.frame: 9 × 9\n",
       "\\begin{tabular}{lllllllll}\n",
       " I & Y & C & Q & P & R & Y\\_1 & C\\_1 & Q\\_1\\\\\n",
       " <int> & <int> & <int> & <dbl> & <int> & <int> & <int> & <int> & <dbl>\\\\\n",
       "\\hline\n",
       "\t    2370 &    5328 &    7500 &   11390.5 & 210 &    1300 &     310 &    450 &     725.6\\\\\n",
       "\t   27125 &   49730 &   40600 &   76961.7 & 220 &   18500 &    5328 &   7500 &   11390.5\\\\\n",
       "\t  108810 &  172380 &  124000 &  251944.4 & 238 &  129000 &   49730 &  40600 &   76961.7\\\\\n",
       "\t  266974 &  437007 &  310000 &  662374.4 & 195 &  384000 &  172380 & 124000 &  251944.4\\\\\n",
       "\t  375998 &  558500 &  260000 &  780819.2 & 208 & 1108000 &  437007 & 310000 &  662374.4\\\\\n",
       "\t  408797 &  711600 &  390000 &  881001.1 & 229 & 1469000 &  558500 & 260000 &  780819.2\\\\\n",
       "\t  407086 &  686000 &  490000 & 1032768.6 & 204 & 1626000 &  711600 & 390000 &  881001.1\\\\\n",
       "\t  970439 & 1213600 &  990000 & 2050276.8 & 180 & 1707000 &  686000 & 490000 & 1032768.6\\\\\n",
       "\t 1165181 & 2097700 & 1650000 & 3033247.2 & 181 & 3150000 & 1213600 & 990000 & 2050276.8\\\\\n",
       "\\end{tabular}\n"
      ],
      "text/markdown": [
       "\n",
       "A data.frame: 9 × 9\n",
       "\n",
       "| I &lt;int&gt; | Y &lt;int&gt; | C &lt;int&gt; | Q &lt;dbl&gt; | P &lt;int&gt; | R &lt;int&gt; | Y_1 &lt;int&gt; | C_1 &lt;int&gt; | Q_1 &lt;dbl&gt; |\n",
       "|---|---|---|---|---|---|---|---|---|\n",
       "|    2370 |    5328 |    7500 |   11390.5 | 210 |    1300 |     310 |    450 |     725.6 |\n",
       "|   27125 |   49730 |   40600 |   76961.7 | 220 |   18500 |    5328 |   7500 |   11390.5 |\n",
       "|  108810 |  172380 |  124000 |  251944.4 | 238 |  129000 |   49730 |  40600 |   76961.7 |\n",
       "|  266974 |  437007 |  310000 |  662374.4 | 195 |  384000 |  172380 | 124000 |  251944.4 |\n",
       "|  375998 |  558500 |  260000 |  780819.2 | 208 | 1108000 |  437007 | 310000 |  662374.4 |\n",
       "|  408797 |  711600 |  390000 |  881001.1 | 229 | 1469000 |  558500 | 260000 |  780819.2 |\n",
       "|  407086 |  686000 |  490000 | 1032768.6 | 204 | 1626000 |  711600 | 390000 |  881001.1 |\n",
       "|  970439 | 1213600 |  990000 | 2050276.8 | 180 | 1707000 |  686000 | 490000 | 1032768.6 |\n",
       "| 1165181 | 2097700 | 1650000 | 3033247.2 | 181 | 3150000 | 1213600 | 990000 | 2050276.8 |\n",
       "\n"
      ],
      "text/plain": [
       "  I       Y       C       Q         P   R       Y_1     C_1    Q_1      \n",
       "1    2370    5328    7500   11390.5 210    1300     310    450     725.6\n",
       "2   27125   49730   40600   76961.7 220   18500    5328   7500   11390.5\n",
       "3  108810  172380  124000  251944.4 238  129000   49730  40600   76961.7\n",
       "4  266974  437007  310000  662374.4 195  384000  172380 124000  251944.4\n",
       "5  375998  558500  260000  780819.2 208 1108000  437007 310000  662374.4\n",
       "6  408797  711600  390000  881001.1 229 1469000  558500 260000  780819.2\n",
       "7  407086  686000  490000 1032768.6 204 1626000  711600 390000  881001.1\n",
       "8  970439 1213600  990000 2050276.8 180 1707000  686000 490000 1032768.6\n",
       "9 1165181 2097700 1650000 3033247.2 181 3150000 1213600 990000 2050276.8"
      ]
     },
     "metadata": {},
     "output_type": "display_data"
    }
   ],
   "source": [
    "data"
   ]
  },
  {
   "cell_type": "code",
   "execution_count": 3,
   "id": "55fa0c6c-d3b7-4188-8036-0254d9703d9d",
   "metadata": {},
   "outputs": [],
   "source": [
    "# Регрессия на все эндогенные и их оценка\n",
    "Y_est <- lm(Y ~ Y_1 + C_1 + Q_1 + P + R , data = data)$fitted.values\n",
    "I_est <- lm(I ~ Y_1 + C_1 + Q_1 + P + R , data = data)$fitted.values\n",
    "C_est <- lm(C ~ Y_1 + C_1 + Q_1 + P + R , data = data)$fitted.values\n",
    "Q_est <- lm(Q ~ Y_1 + C_1 + Q_1 + P + R , data = data)$fitted.values"
   ]
  },
  {
   "cell_type": "code",
   "execution_count": 4,
   "id": "a37d1561-eeaa-4006-8b82-83a16f7ac2e5",
   "metadata": {},
   "outputs": [
    {
     "data": {
      "text/plain": [
       "\n",
       "Call:\n",
       "lm(formula = Y ~ Y_1 + I_est, data = data)\n",
       "\n",
       "Residuals:\n",
       "    Min      1Q  Median      3Q     Max \n",
       "-189967 -106543   -3900  133060  202849 \n",
       "\n",
       "Coefficients:\n",
       "              Estimate Std. Error t value Pr(>|t|)  \n",
       "(Intercept) -2.493e+04  8.160e+04  -0.306   0.7703  \n",
       "Y_1          5.002e-01  4.381e-01   1.142   0.2971  \n",
       "I_est        1.135e+00  4.586e-01   2.476   0.0481 *\n",
       "---\n",
       "Signif. codes:  0 ‘***’ 0.001 ‘**’ 0.01 ‘*’ 0.05 ‘.’ 0.1 ‘ ’ 1\n",
       "\n",
       "Residual standard error: 162500 on 6 degrees of freedom\n",
       "Multiple R-squared:  0.9544,\tAdjusted R-squared:  0.9392 \n",
       "F-statistic: 62.81 on 2 and 6 DF,  p-value: 9.472e-05\n"
      ]
     },
     "metadata": {},
     "output_type": "display_data"
    }
   ],
   "source": [
    "summary( lm( Y ~ Y_1 + I_est, data = data ) )"
   ]
  },
  {
   "cell_type": "code",
   "execution_count": 5,
   "id": "e22c9361-3a2c-4063-aa1a-c544518350ac",
   "metadata": {},
   "outputs": [
    {
     "data": {
      "text/plain": [
       "\n",
       "Call:\n",
       "lm(formula = I ~ Y_est + Q_est, data = data)\n",
       "\n",
       "Residuals:\n",
       "    Min      1Q  Median      3Q     Max \n",
       "-115241  -76851  -47291   93111  199642 \n",
       "\n",
       "Coefficients:\n",
       "              Estimate Std. Error t value Pr(>|t|)\n",
       "(Intercept) 25439.6193 60343.1825   0.422    0.688\n",
       "Y_est          -0.3916     0.6701  -0.584    0.580\n",
       "Q_est           0.6636     0.4513   1.470    0.192\n",
       "\n",
       "Residual standard error: 123600 on 6 degrees of freedom\n",
       "Multiple R-squared:   0.93,\tAdjusted R-squared:  0.9066 \n",
       "F-statistic: 39.84 on 2 and 6 DF,  p-value: 0.0003434\n"
      ]
     },
     "metadata": {},
     "output_type": "display_data"
    }
   ],
   "source": [
    "summary( lm( I ~ Y_est + Q_est, data = data ) )"
   ]
  },
  {
   "cell_type": "code",
   "execution_count": 6,
   "id": "8923fc8d-93c8-462b-8398-2fdba7584eec",
   "metadata": {},
   "outputs": [
    {
     "data": {
      "text/plain": [
       "\n",
       "Call:\n",
       "lm(formula = C ~ Y_est + C_1 + P, data = data)\n",
       "\n",
       "Residuals:\n",
       "      1       2       3       4       5       6       7       8       9 \n",
       " -46707   29851  163433   11034 -219612  -35381  -66007  133880   29509 \n",
       "\n",
       "Coefficients:\n",
       "              Estimate Std. Error t value Pr(>|t|)\n",
       "(Intercept)  5.622e+05  8.082e+05   0.696    0.518\n",
       "Y_est        5.747e-01  6.839e-01   0.840    0.439\n",
       "C_1          3.309e-01  1.391e+00   0.238    0.821\n",
       "P           -2.719e+03  3.614e+03  -0.752    0.486\n",
       "\n",
       "Residual standard error: 143200 on 5 degrees of freedom\n",
       "Multiple R-squared:  0.9546,\tAdjusted R-squared:  0.9273 \n",
       "F-statistic: 35.02 on 3 and 5 DF,  p-value: 0.0008814\n"
      ]
     },
     "metadata": {},
     "output_type": "display_data"
    }
   ],
   "source": [
    "summary( lm( C ~ Y_est + C_1 + P, data = data ) )"
   ]
  },
  {
   "cell_type": "code",
   "execution_count": 7,
   "id": "926b8959-11f5-40c1-ba36-074c95b88358",
   "metadata": {},
   "outputs": [
    {
     "data": {
      "text/plain": [
       "\n",
       "Call:\n",
       "lm(formula = Q ~ Q_1 + R, data = data)\n",
       "\n",
       "Residuals:\n",
       "    Min      1Q  Median      3Q     Max \n",
       "-223175 -114884  -76875   24761  530073 \n",
       "\n",
       "Coefficients:\n",
       "              Estimate Std. Error t value Pr(>|t|)  \n",
       "(Intercept)  1.254e+05  1.334e+05   0.940    0.384  \n",
       "Q_1          3.351e+00  1.318e+00   2.542    0.044 *\n",
       "R           -1.210e+00  8.303e-01  -1.458    0.195  \n",
       "---\n",
       "Signif. codes:  0 ‘***’ 0.001 ‘**’ 0.01 ‘*’ 0.05 ‘.’ 0.1 ‘ ’ 1\n",
       "\n",
       "Residual standard error: 261000 on 6 degrees of freedom\n",
       "Multiple R-squared:  0.9476,\tAdjusted R-squared:  0.9301 \n",
       "F-statistic: 54.22 on 2 and 6 DF,  p-value: 0.0001441\n"
      ]
     },
     "metadata": {},
     "output_type": "display_data"
    }
   ],
   "source": [
    "summary( lm( Q ~ Q_1 + R, data = data ) )"
   ]
  },
  {
   "cell_type": "markdown",
   "id": "b38a09e4-3f13-4027-81c8-252d51256e38",
   "metadata": {},
   "source": [
    "# 2"
   ]
  },
  {
   "cell_type": "code",
   "execution_count": 8,
   "id": "ff40b50a-d60e-448c-919e-22807c554101",
   "metadata": {},
   "outputs": [],
   "source": [
    "data <- read.csv(file = \"../Data/7_2.csv\", sep=\"\\t\")"
   ]
  },
  {
   "cell_type": "code",
   "execution_count": 9,
   "id": "81b6b829-c449-48cf-9594-413cf32557a5",
   "metadata": {},
   "outputs": [
    {
     "data": {
      "text/html": [
       "<table class=\"dataframe\">\n",
       "<caption>A data.frame: 9 × 8</caption>\n",
       "<thead>\n",
       "\t<tr><th scope=col>Y</th><th scope=col>M</th><th scope=col>N</th><th scope=col>S</th><th scope=col>E</th><th scope=col>X</th><th scope=col>E_1</th><th scope=col>M_1</th></tr>\n",
       "\t<tr><th scope=col>&lt;dbl&gt;</th><th scope=col>&lt;dbl&gt;</th><th scope=col>&lt;int&gt;</th><th scope=col>&lt;int&gt;</th><th scope=col>&lt;int&gt;</th><th scope=col>&lt;int&gt;</th><th scope=col>&lt;int&gt;</th><th scope=col>&lt;dbl&gt;</th></tr>\n",
       "</thead>\n",
       "<tbody>\n",
       "\t<tr><td>  19005.5</td><td>0.482632</td><td> 2200</td><td> 1500</td><td>1</td><td>  11847</td><td>1</td><td>0.129471</td></tr>\n",
       "\t<tr><td> 171509.5</td><td>0.304956</td><td> 5500</td><td> 4000</td><td>1</td><td>  65524</td><td>1</td><td>0.482632</td></tr>\n",
       "\t<tr><td> 610745.2</td><td>0.232131</td><td>10500</td><td> 6000</td><td>1</td><td> 169534</td><td>1</td><td>0.304956</td></tr>\n",
       "\t<tr><td>1524049.0</td><td>0.242857</td><td>20350</td><td>18000</td><td>1</td><td> 426735</td><td>1</td><td>0.232131</td></tr>\n",
       "\t<tr><td>2145655.5</td><td>0.205965</td><td>20000</td><td>15000</td><td>0</td><td> 532239</td><td>1</td><td>0.242857</td></tr>\n",
       "\t<tr><td>2478594.1</td><td>0.209359</td><td>30000</td><td>20000</td><td>0</td><td> 592332</td><td>0</td><td>0.205965</td></tr>\n",
       "\t<tr><td>2741051.2</td><td>0.234951</td><td>45000</td><td>35000</td><td>0</td><td> 840596</td><td>0</td><td>0.209359</td></tr>\n",
       "\t<tr><td>4757233.7</td><td>0.268908</td><td>50000</td><td>45000</td><td>0</td><td>2090687</td><td>0</td><td>0.234951</td></tr>\n",
       "\t<tr><td>7063392.8</td><td>0.249292</td><td>45000</td><td>40000</td><td>0</td><td>3232388</td><td>0</td><td>0.268908</td></tr>\n",
       "</tbody>\n",
       "</table>\n"
      ],
      "text/latex": [
       "A data.frame: 9 × 8\n",
       "\\begin{tabular}{llllllll}\n",
       " Y & M & N & S & E & X & E\\_1 & M\\_1\\\\\n",
       " <dbl> & <dbl> & <int> & <int> & <int> & <int> & <int> & <dbl>\\\\\n",
       "\\hline\n",
       "\t   19005.5 & 0.482632 &  2200 &  1500 & 1 &   11847 & 1 & 0.129471\\\\\n",
       "\t  171509.5 & 0.304956 &  5500 &  4000 & 1 &   65524 & 1 & 0.482632\\\\\n",
       "\t  610745.2 & 0.232131 & 10500 &  6000 & 1 &  169534 & 1 & 0.304956\\\\\n",
       "\t 1524049.0 & 0.242857 & 20350 & 18000 & 1 &  426735 & 1 & 0.232131\\\\\n",
       "\t 2145655.5 & 0.205965 & 20000 & 15000 & 0 &  532239 & 1 & 0.242857\\\\\n",
       "\t 2478594.1 & 0.209359 & 30000 & 20000 & 0 &  592332 & 0 & 0.205965\\\\\n",
       "\t 2741051.2 & 0.234951 & 45000 & 35000 & 0 &  840596 & 0 & 0.209359\\\\\n",
       "\t 4757233.7 & 0.268908 & 50000 & 45000 & 0 & 2090687 & 0 & 0.234951\\\\\n",
       "\t 7063392.8 & 0.249292 & 45000 & 40000 & 0 & 3232388 & 0 & 0.268908\\\\\n",
       "\\end{tabular}\n"
      ],
      "text/markdown": [
       "\n",
       "A data.frame: 9 × 8\n",
       "\n",
       "| Y &lt;dbl&gt; | M &lt;dbl&gt; | N &lt;int&gt; | S &lt;int&gt; | E &lt;int&gt; | X &lt;int&gt; | E_1 &lt;int&gt; | M_1 &lt;dbl&gt; |\n",
       "|---|---|---|---|---|---|---|---|\n",
       "|   19005.5 | 0.482632 |  2200 |  1500 | 1 |   11847 | 1 | 0.129471 |\n",
       "|  171509.5 | 0.304956 |  5500 |  4000 | 1 |   65524 | 1 | 0.482632 |\n",
       "|  610745.2 | 0.232131 | 10500 |  6000 | 1 |  169534 | 1 | 0.304956 |\n",
       "| 1524049.0 | 0.242857 | 20350 | 18000 | 1 |  426735 | 1 | 0.232131 |\n",
       "| 2145655.5 | 0.205965 | 20000 | 15000 | 0 |  532239 | 1 | 0.242857 |\n",
       "| 2478594.1 | 0.209359 | 30000 | 20000 | 0 |  592332 | 0 | 0.205965 |\n",
       "| 2741051.2 | 0.234951 | 45000 | 35000 | 0 |  840596 | 0 | 0.209359 |\n",
       "| 4757233.7 | 0.268908 | 50000 | 45000 | 0 | 2090687 | 0 | 0.234951 |\n",
       "| 7063392.8 | 0.249292 | 45000 | 40000 | 0 | 3232388 | 0 | 0.268908 |\n",
       "\n"
      ],
      "text/plain": [
       "  Y         M        N     S     E X       E_1 M_1     \n",
       "1   19005.5 0.482632  2200  1500 1   11847 1   0.129471\n",
       "2  171509.5 0.304956  5500  4000 1   65524 1   0.482632\n",
       "3  610745.2 0.232131 10500  6000 1  169534 1   0.304956\n",
       "4 1524049.0 0.242857 20350 18000 1  426735 1   0.232131\n",
       "5 2145655.5 0.205965 20000 15000 0  532239 1   0.242857\n",
       "6 2478594.1 0.209359 30000 20000 0  592332 0   0.205965\n",
       "7 2741051.2 0.234951 45000 35000 0  840596 0   0.209359\n",
       "8 4757233.7 0.268908 50000 45000 0 2090687 0   0.234951\n",
       "9 7063392.8 0.249292 45000 40000 0 3232388 0   0.268908"
      ]
     },
     "metadata": {},
     "output_type": "display_data"
    }
   ],
   "source": [
    "data"
   ]
  },
  {
   "cell_type": "code",
   "execution_count": 10,
   "id": "3faae245-0d38-452f-9d1e-c39d9c825892",
   "metadata": {},
   "outputs": [],
   "source": [
    "M_est <- lm(M ~ E_1 + M_1 + Y + X, data = data)$fitted.values\n",
    "N_est <- lm(N ~ E_1 + M_1 + Y + X, data = data)$fitted.values\n",
    "S_est <- lm(M ~ E_1 + M_1 + Y + X, data = data)$fitted.values"
   ]
  },
  {
   "cell_type": "code",
   "execution_count": 11,
   "id": "04123724-c7a8-46b6-a026-da7c8cda46c3",
   "metadata": {},
   "outputs": [
    {
     "data": {
      "text/plain": [
       "\n",
       "Call:\n",
       "lm(formula = M ~ N_est + S_est + E_1 + M_1, data = data)\n",
       "\n",
       "Residuals:\n",
       "        1         2         3         4         5         6         7         8 \n",
       " 0.035639  0.034843 -0.076725 -0.020325  0.026568  0.007681 -0.002623 -0.016503 \n",
       "        9 \n",
       " 0.011444 \n",
       "\n",
       "Coefficients:\n",
       "              Estimate Std. Error t value Pr(>|t|)  \n",
       "(Intercept) -1.546e-16  2.527e-01    0.00   1.0000  \n",
       "N_est        1.717e-21  3.998e-06    0.00   1.0000  \n",
       "S_est        1.000e+00  3.311e-01    3.02   0.0392 *\n",
       "E_1          3.861e-18  1.158e-01    0.00   1.0000  \n",
       "M_1          5.973e-17  2.147e-01    0.00   1.0000  \n",
       "---\n",
       "Signif. codes:  0 ‘***’ 0.001 ‘**’ 0.01 ‘*’ 0.05 ‘.’ 0.1 ‘ ’ 1\n",
       "\n",
       "Residual standard error: 0.0499 on 4 degrees of freedom\n",
       "Multiple R-squared:  0.8284,\tAdjusted R-squared:  0.6568 \n",
       "F-statistic: 4.828 on 4 and 4 DF,  p-value: 0.07822\n"
      ]
     },
     "metadata": {},
     "output_type": "display_data"
    },
    {
     "data": {
      "text/plain": [
       "\n",
       "Call:\n",
       "lm(formula = N ~ M_est + S_est + Y, data = data)\n",
       "\n",
       "Residuals:\n",
       "   Min     1Q Median     3Q    Max \n",
       "-11321  -5716  -2229   1791  16294 \n",
       "\n",
       "Coefficients: (1 not defined because of singularities)\n",
       "              Estimate Std. Error t value Pr(>|t|)   \n",
       "(Intercept)  1.899e+04  1.583e+04   1.200   0.2754   \n",
       "M_est       -3.286e+04  4.955e+04  -0.663   0.5319   \n",
       "S_est               NA         NA      NA       NA   \n",
       "Y            6.391e-03  1.675e-03   3.816   0.0088 **\n",
       "---\n",
       "Signif. codes:  0 ‘***’ 0.001 ‘**’ 0.01 ‘*’ 0.05 ‘.’ 0.1 ‘ ’ 1\n",
       "\n",
       "Residual standard error: 9880 on 6 degrees of freedom\n",
       "Multiple R-squared:  0.7752,\tAdjusted R-squared:  0.7003 \n",
       "F-statistic: 10.35 on 2 and 6 DF,  p-value: 0.01136\n"
      ]
     },
     "metadata": {},
     "output_type": "display_data"
    },
    {
     "data": {
      "text/plain": [
       "\n",
       "Call:\n",
       "lm(formula = S ~ M_est + N_est + X, data = data)\n",
       "\n",
       "Residuals:\n",
       "      1       2       3       4       5       6       7       8       9 \n",
       "-3522.9  -757.8 -1421.7  5977.0  -202.7 -8320.1  5958.4  8401.8 -6111.9 \n",
       "\n",
       "Coefficients:\n",
       "              Estimate Std. Error t value Pr(>|t|)  \n",
       "(Intercept) -1.656e+03  1.487e+04  -0.111   0.9156  \n",
       "M_est        5.402e+03  4.058e+04   0.133   0.8993  \n",
       "N_est        6.921e-01  3.280e-01   2.110   0.0886 .\n",
       "X            3.530e-03  4.675e-03   0.755   0.4842  \n",
       "---\n",
       "Signif. codes:  0 ‘***’ 0.001 ‘**’ 0.01 ‘*’ 0.05 ‘.’ 0.1 ‘ ’ 1\n",
       "\n",
       "Residual standard error: 7259 on 5 degrees of freedom\n",
       "Multiple R-squared:  0.8728,\tAdjusted R-squared:  0.7965 \n",
       "F-statistic: 11.44 on 3 and 5 DF,  p-value: 0.01121\n"
      ]
     },
     "metadata": {},
     "output_type": "display_data"
    }
   ],
   "source": [
    "summary(lm( M ~ N_est + S_est + E_1 + M_1, data = data))\n",
    "summary(lm( N ~ M_est + S_est + Y, data = data))\n",
    "summary(lm( S ~ M_est + N_est + X, data = data))"
   ]
  },
  {
   "cell_type": "code",
   "execution_count": null,
   "id": "8171c43b-01cf-4bbe-970c-e547f259e84b",
   "metadata": {},
   "outputs": [],
   "source": []
  }
 ],
 "metadata": {
  "kernelspec": {
   "display_name": "R",
   "language": "R",
   "name": "ir"
  },
  "language_info": {
   "codemirror_mode": "r",
   "file_extension": ".r",
   "mimetype": "text/x-r-source",
   "name": "R",
   "pygments_lexer": "r",
   "version": "4.3.3"
  }
 },
 "nbformat": 4,
 "nbformat_minor": 5
}
