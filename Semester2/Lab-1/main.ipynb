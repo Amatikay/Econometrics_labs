{
 "cells": [
  {
   "cell_type": "code",
   "execution_count": 5,
   "id": "84e5918d-02ec-4e57-8fac-2e2fc9e1aada",
   "metadata": {},
   "outputs": [
    {
     "name": "stderr",
     "output_type": "stream",
     "text": [
      "Loading required package: zoo\n",
      "\n",
      "\n",
      "Attaching package: ‘zoo’\n",
      "\n",
      "\n",
      "The following objects are masked from ‘package:base’:\n",
      "\n",
      "    as.Date, as.Date.numeric\n",
      "\n",
      "\n"
     ]
    }
   ],
   "source": [
    "library(lmtest)"
   ]
  },
  {
   "cell_type": "code",
   "execution_count": 3,
   "id": "1190d3fa-cb58-41ea-8d5f-d9f75f62e929",
   "metadata": {},
   "outputs": [],
   "source": [
    "data <- read.table(file = \"../Data/flats_1.txt\", header = TRUE)"
   ]
  },
  {
   "cell_type": "code",
   "execution_count": 7,
   "id": "64c80093-f1b7-44af-b094-c927fee505f2",
   "metadata": {},
   "outputs": [
    {
     "data": {
      "text/plain": [
       "\n",
       "\tDurbin-Watson test\n",
       "\n",
       "data:  model\n",
       "DW = 2.5059, p-value = 0.9547\n",
       "alternative hypothesis: true autocorrelation is greater than 0\n"
      ]
     },
     "metadata": {},
     "output_type": "display_data"
    }
   ],
   "source": [
    "model <- lm(Rent ~ Floor + Total + M2 + F, data = data)\n",
    "dwtest(model)"
   ]
  },
  {
   "cell_type": "code",
   "execution_count": null,
   "id": "268f5bf2-011d-4fca-bf1e-4bcec16ba131",
   "metadata": {},
   "outputs": [],
   "source": []
  }
 ],
 "metadata": {
  "kernelspec": {
   "display_name": "R",
   "language": "R",
   "name": "ir"
  },
  "language_info": {
   "codemirror_mode": "r",
   "file_extension": ".r",
   "mimetype": "text/x-r-source",
   "name": "R",
   "pygments_lexer": "r",
   "version": "4.3.2"
  }
 },
 "nbformat": 4,
 "nbformat_minor": 5
}
