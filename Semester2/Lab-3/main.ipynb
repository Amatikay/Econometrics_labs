{
 "cells": [
  {
   "cell_type": "markdown",
   "id": "652ce8bf-09dd-4f19-a8bd-d50a25e07809",
   "metadata": {},
   "source": [
    "Для предложенных данных установить наличие мультиколлинеарности. Для этого:\n",
    "\n",
    "1. Первоначально провести обычный регрессионный анализ. Проанализировать полученные результаты. Выписать коэффициент детерминации;\n",
    "2. Рассчитать корреляционную матрицу всех переменных. Установить зависимость между факторами;\n",
    "3. Построить регрессию одного из факторов на остальные факторы (Y в этой модели не рассматривать). Сравнить коэффициент детерминации этой модели, с коэффициентом детерминации в регрессионной модели Y на все факторы;\n",
    "4. Дополнительно в пакете R вычислить число обусловленности матрицы, как отношение максимального и минимального характеристических чисел информационной матрицы J.\n",
    "5. Устранить мультиколлинеарность методом пошаговой регрессии (Stepwise regression), оставив только значимые факторы.\n"
   ]
  },
  {
   "cell_type": "code",
   "execution_count": 1,
   "id": "aac53ec3-03d8-44d3-977b-6795fa06d32f",
   "metadata": {},
   "outputs": [
    {
     "data": {
      "text/html": [
       "<table class=\"dataframe\">\n",
       "<caption>A data.frame: 6 × 7</caption>\n",
       "<thead>\n",
       "\t<tr><th></th><th scope=col>CYL</th><th scope=col>POW</th><th scope=col>LEN</th><th scope=col>WID</th><th scope=col>WT</th><th scope=col>MAX.SP</th><th scope=col>PRICE</th></tr>\n",
       "\t<tr><th></th><th scope=col>&lt;int&gt;</th><th scope=col>&lt;int&gt;</th><th scope=col>&lt;int&gt;</th><th scope=col>&lt;int&gt;</th><th scope=col>&lt;int&gt;</th><th scope=col>&lt;int&gt;</th><th scope=col>&lt;int&gt;</th></tr>\n",
       "</thead>\n",
       "<tbody>\n",
       "\t<tr><th scope=row>1</th><td>1350</td><td>79</td><td>393</td><td>161</td><td> 870</td><td>165</td><td>30570</td></tr>\n",
       "\t<tr><th scope=row>2</th><td>1588</td><td>85</td><td>468</td><td>177</td><td>1110</td><td>160</td><td>39990</td></tr>\n",
       "\t<tr><th scope=row>3</th><td>1294</td><td>68</td><td>424</td><td>168</td><td>1050</td><td>152</td><td>29600</td></tr>\n",
       "\t<tr><th scope=row>4</th><td>1222</td><td>59</td><td>412</td><td>161</td><td> 930</td><td>151</td><td>28250</td></tr>\n",
       "\t<tr><th scope=row>5</th><td>1585</td><td>98</td><td>439</td><td>164</td><td>1105</td><td>165</td><td>34900</td></tr>\n",
       "\t<tr><th scope=row>6</th><td>1297</td><td>82</td><td>429</td><td>169</td><td>1080</td><td>160</td><td>35480</td></tr>\n",
       "</tbody>\n",
       "</table>\n"
      ],
      "text/latex": [
       "A data.frame: 6 × 7\n",
       "\\begin{tabular}{r|lllllll}\n",
       "  & CYL & POW & LEN & WID & WT & MAX.SP & PRICE\\\\\n",
       "  & <int> & <int> & <int> & <int> & <int> & <int> & <int>\\\\\n",
       "\\hline\n",
       "\t1 & 1350 & 79 & 393 & 161 &  870 & 165 & 30570\\\\\n",
       "\t2 & 1588 & 85 & 468 & 177 & 1110 & 160 & 39990\\\\\n",
       "\t3 & 1294 & 68 & 424 & 168 & 1050 & 152 & 29600\\\\\n",
       "\t4 & 1222 & 59 & 412 & 161 &  930 & 151 & 28250\\\\\n",
       "\t5 & 1585 & 98 & 439 & 164 & 1105 & 165 & 34900\\\\\n",
       "\t6 & 1297 & 82 & 429 & 169 & 1080 & 160 & 35480\\\\\n",
       "\\end{tabular}\n"
      ],
      "text/markdown": [
       "\n",
       "A data.frame: 6 × 7\n",
       "\n",
       "| <!--/--> | CYL &lt;int&gt; | POW &lt;int&gt; | LEN &lt;int&gt; | WID &lt;int&gt; | WT &lt;int&gt; | MAX.SP &lt;int&gt; | PRICE &lt;int&gt; |\n",
       "|---|---|---|---|---|---|---|---|\n",
       "| 1 | 1350 | 79 | 393 | 161 |  870 | 165 | 30570 |\n",
       "| 2 | 1588 | 85 | 468 | 177 | 1110 | 160 | 39990 |\n",
       "| 3 | 1294 | 68 | 424 | 168 | 1050 | 152 | 29600 |\n",
       "| 4 | 1222 | 59 | 412 | 161 |  930 | 151 | 28250 |\n",
       "| 5 | 1585 | 98 | 439 | 164 | 1105 | 165 | 34900 |\n",
       "| 6 | 1297 | 82 | 429 | 169 | 1080 | 160 | 35480 |\n",
       "\n"
      ],
      "text/plain": [
       "  CYL  POW LEN WID WT   MAX.SP PRICE\n",
       "1 1350 79  393 161  870 165    30570\n",
       "2 1588 85  468 177 1110 160    39990\n",
       "3 1294 68  424 168 1050 152    29600\n",
       "4 1222 59  412 161  930 151    28250\n",
       "5 1585 98  439 164 1105 165    34900\n",
       "6 1297 82  429 169 1080 160    35480"
      ]
     },
     "metadata": {},
     "output_type": "display_data"
    }
   ],
   "source": [
    "data <- read.csv(file = \"../Data/Cars.csv\", header = TRUE, dec = \",\")[,-1] # Удалил навзание\n",
    "head(data)"
   ]
  },
  {
   "cell_type": "code",
   "execution_count": 2,
   "id": "ede3b73a-afc3-4ee8-89cc-38702972f47b",
   "metadata": {},
   "outputs": [],
   "source": [
    "regModel <- lm(data = data[,-7])"
   ]
  },
  {
   "cell_type": "code",
   "execution_count": 3,
   "id": "74a19767-8dc5-4de9-8c2c-e4915fac1fca",
   "metadata": {},
   "outputs": [
    {
     "data": {
      "text/plain": [
       "\n",
       "Call:\n",
       "lm(data = data[, -7])\n",
       "\n",
       "Residuals:\n",
       "    Min      1Q  Median      3Q     Max \n",
       "-365.78 -136.99    3.42  108.11  353.36 \n",
       "\n",
       "Coefficients:\n",
       "             Estimate Std. Error t value Pr(>|t|)\n",
       "(Intercept) -2128.407   2135.049  -0.997    0.338\n",
       "POW             3.374      9.043   0.373    0.716\n",
       "LEN            -1.401      6.736  -0.208    0.839\n",
       "WID             8.096     21.302   0.380    0.711\n",
       "WT              1.420      1.213   1.170    0.265\n",
       "MAX.SP          7.588     11.350   0.669    0.516\n",
       "\n",
       "Residual standard error: 229.2 on 12 degrees of freedom\n",
       "Multiple R-squared:  0.7349,\tAdjusted R-squared:  0.6244 \n",
       "F-statistic: 6.653 on 5 and 12 DF,  p-value: 0.003461\n"
      ]
     },
     "metadata": {},
     "output_type": "display_data"
    }
   ],
   "source": [
    "summary(regModel)"
   ]
  },
  {
   "cell_type": "code",
   "execution_count": 4,
   "id": "dd88e6d6-f00f-4339-866e-4d5e2d59f1fb",
   "metadata": {},
   "outputs": [
    {
     "data": {
      "text/html": [
       "<table class=\"dataframe\">\n",
       "<caption>A matrix: 7 × 7 of type dbl</caption>\n",
       "<thead>\n",
       "\t<tr><th></th><th scope=col>CYL</th><th scope=col>POW</th><th scope=col>LEN</th><th scope=col>WID</th><th scope=col>WT</th><th scope=col>MAX.SP</th><th scope=col>PRICE</th></tr>\n",
       "</thead>\n",
       "<tbody>\n",
       "\t<tr><th scope=row>CYL</th><td>  50299050</td><td> 2588214</td><td> 12830473</td><td>  4916272</td><td> 32372208</td><td> 4699934</td><td> 1029914660</td></tr>\n",
       "\t<tr><th scope=row>POW</th><td>   2588214</td><td>  135921</td><td>   665132</td><td>   254792</td><td>  1679370</td><td>  244608</td><td>   53841705</td></tr>\n",
       "\t<tr><th scope=row>LEN</th><td>  12830473</td><td>  665132</td><td>  3390909</td><td>  1302196</td><td>  8462819</td><td> 1237213</td><td>  268129570</td></tr>\n",
       "\t<tr><th scope=row>WID</th><td>   4916272</td><td>  254792</td><td>  1302196</td><td>   500480</td><td>  3245369</td><td>  475352</td><td>  102800340</td></tr>\n",
       "\t<tr><th scope=row>WT</th><td>  32372208</td><td> 1679370</td><td>  8462819</td><td>  3245369</td><td> 21268741</td><td> 3087096</td><td>  674851850</td></tr>\n",
       "\t<tr><th scope=row>MAX.SP</th><td>   4699934</td><td>  244608</td><td>  1237213</td><td>   475352</td><td>  3087096</td><td>  453439</td><td>   98106915</td></tr>\n",
       "\t<tr><th scope=row>PRICE</th><td>1029914660</td><td>53841705</td><td>268129570</td><td>102800340</td><td>674851850</td><td>98106915</td><td>21736748625</td></tr>\n",
       "</tbody>\n",
       "</table>\n"
      ],
      "text/latex": [
       "A matrix: 7 × 7 of type dbl\n",
       "\\begin{tabular}{r|lllllll}\n",
       "  & CYL & POW & LEN & WID & WT & MAX.SP & PRICE\\\\\n",
       "\\hline\n",
       "\tCYL &   50299050 &  2588214 &  12830473 &   4916272 &  32372208 &  4699934 &  1029914660\\\\\n",
       "\tPOW &    2588214 &   135921 &    665132 &    254792 &   1679370 &   244608 &    53841705\\\\\n",
       "\tLEN &   12830473 &   665132 &   3390909 &   1302196 &   8462819 &  1237213 &   268129570\\\\\n",
       "\tWID &    4916272 &   254792 &   1302196 &    500480 &   3245369 &   475352 &   102800340\\\\\n",
       "\tWT &   32372208 &  1679370 &   8462819 &   3245369 &  21268741 &  3087096 &   674851850\\\\\n",
       "\tMAX.SP &    4699934 &   244608 &   1237213 &    475352 &   3087096 &   453439 &    98106915\\\\\n",
       "\tPRICE & 1029914660 & 53841705 & 268129570 & 102800340 & 674851850 & 98106915 & 21736748625\\\\\n",
       "\\end{tabular}\n"
      ],
      "text/markdown": [
       "\n",
       "A matrix: 7 × 7 of type dbl\n",
       "\n",
       "| <!--/--> | CYL | POW | LEN | WID | WT | MAX.SP | PRICE |\n",
       "|---|---|---|---|---|---|---|---|\n",
       "| CYL |   50299050 |  2588214 |  12830473 |   4916272 |  32372208 |  4699934 |  1029914660 |\n",
       "| POW |    2588214 |   135921 |    665132 |    254792 |   1679370 |   244608 |    53841705 |\n",
       "| LEN |   12830473 |   665132 |   3390909 |   1302196 |   8462819 |  1237213 |   268129570 |\n",
       "| WID |    4916272 |   254792 |   1302196 |    500480 |   3245369 |   475352 |   102800340 |\n",
       "| WT |   32372208 |  1679370 |   8462819 |   3245369 |  21268741 |  3087096 |   674851850 |\n",
       "| MAX.SP |    4699934 |   244608 |   1237213 |    475352 |   3087096 |   453439 |    98106915 |\n",
       "| PRICE | 1029914660 | 53841705 | 268129570 | 102800340 | 674851850 | 98106915 | 21736748625 |\n",
       "\n"
      ],
      "text/plain": [
       "       CYL        POW      LEN       WID       WT        MAX.SP   PRICE      \n",
       "CYL      50299050  2588214  12830473   4916272  32372208  4699934  1029914660\n",
       "POW       2588214   135921    665132    254792   1679370   244608    53841705\n",
       "LEN      12830473   665132   3390909   1302196   8462819  1237213   268129570\n",
       "WID       4916272   254792   1302196    500480   3245369   475352   102800340\n",
       "WT       32372208  1679370   8462819   3245369  21268741  3087096   674851850\n",
       "MAX.SP    4699934   244608   1237213    475352   3087096   453439    98106915\n",
       "PRICE  1029914660 53841705 268129570 102800340 674851850 98106915 21736748625"
      ]
     },
     "metadata": {},
     "output_type": "display_data"
    },
    {
     "data": {
      "text/html": [
       "2.35172837627653e+34"
      ],
      "text/latex": [
       "2.35172837627653e+34"
      ],
      "text/markdown": [
       "2.35172837627653e+34"
      ],
      "text/plain": [
       "[1] 2.351728e+34"
      ]
     },
     "metadata": {},
     "output_type": "display_data"
    }
   ],
   "source": [
    "# Информационная матрица\n",
    "J <- t( as.matrix(data))%*%as.matrix(data)\n",
    "J\n",
    "det(J) # != 0 "
   ]
  },
  {
   "cell_type": "code",
   "execution_count": 5,
   "id": "b8a4458a-ed8e-48f7-8dcf-b165a8f9fe99",
   "metadata": {},
   "outputs": [
    {
     "data": {
      "text/plain": [
       "eigen() decomposition\n",
       "$values\n",
       "[1] 2.181087e+10 1.638601e+06 2.593006e+05 2.224138e+04 2.400678e+03\n",
       "[6] 3.884322e+02 1.223564e+02\n",
       "\n",
       "$vectors\n",
       "             [,1]        [,2]        [,3]         [,4]         [,5]\n",
       "[1,] -0.047304592  0.94610400  0.31371552 -0.056285929 -0.032604320\n",
       "[2,] -0.002472870  0.02283956  0.01856490  0.029629757  0.780704739\n",
       "[3,] -0.012314862  0.10386548 -0.45907364 -0.691812947 -0.205695064\n",
       "[4,] -0.004721490  0.03846250 -0.18696119 -0.342750167 -0.067937188\n",
       "[5,] -0.030995192  0.29573534 -0.79963569  0.513863658  0.047500566\n",
       "[6,] -0.004505926  0.03918137 -0.12580757 -0.368528022  0.583311376\n",
       "[7,] -0.998299157 -0.05570991  0.01703078 -0.001542181 -0.001637809\n",
       "              [,6]          [,7]\n",
       "[1,] -0.0009396090 -0.0001683084\n",
       "[2,]  0.5173912341 -0.3479311460\n",
       "[3,]  0.4773643109  0.1718121162\n",
       "[4,] -0.4209478542 -0.8150175585\n",
       "[5,] -0.0747696359  0.0161249464\n",
       "[6,] -0.5671340970  0.4300125867\n",
       "[7,] -0.0002536355  0.0001634819\n"
      ]
     },
     "metadata": {},
     "output_type": "display_data"
    }
   ],
   "source": [
    "eigen(J) # Собств значения"
   ]
  },
  {
   "cell_type": "code",
   "execution_count": 6,
   "id": "d00fe5bc-ef6f-4de2-9cc6-989009fb6fdb",
   "metadata": {},
   "outputs": [
    {
     "data": {
      "text/html": [
       "13351.2906802872"
      ],
      "text/latex": [
       "13351.2906802872"
      ],
      "text/markdown": [
       "13351.2906802872"
      ],
      "text/plain": [
       "[1] 13351.29"
      ]
     },
     "metadata": {},
     "output_type": "display_data"
    }
   ],
   "source": [
    "sqrt(max(eigen(J)$values)/min(eigen(J)$values)) # Число обусловленностей\n",
    "                                                # Анализ главных компонент"
   ]
  },
  {
   "cell_type": "code",
   "execution_count": 7,
   "id": "b71b5413-0fe5-4bf0-aa0b-e4b20f42c40b",
   "metadata": {},
   "outputs": [
    {
     "data": {
      "text/plain": [
       "\n",
       "Call:\n",
       "lm(formula = PRICE ~ 1, data = data)\n",
       "\n",
       "Residuals:\n",
       "     Min       1Q   Median       3Q      Max \n",
       "-12058.6  -4316.1   -813.6   4298.9  13541.4 \n",
       "\n",
       "Coefficients:\n",
       "            Estimate Std. Error t value Pr(>|t|)    \n",
       "(Intercept)    34159       1549   22.05 6.03e-14 ***\n",
       "---\n",
       "Signif. codes:  0 ‘***’ 0.001 ‘**’ 0.01 ‘*’ 0.05 ‘.’ 0.1 ‘ ’ 1\n",
       "\n",
       "Residual standard error: 6572 on 17 degrees of freedom\n"
      ]
     },
     "metadata": {},
     "output_type": "display_data"
    }
   ],
   "source": [
    "summary(lm(PRICE ~ 1, data = data))"
   ]
  },
  {
   "cell_type": "code",
   "execution_count": 8,
   "id": "4cb9d855-5221-4b2c-bded-f50b27c021a4",
   "metadata": {},
   "outputs": [
    {
     "name": "stdout",
     "output_type": "stream",
     "text": [
      "CYL\n",
      "Call:\n",
      "lm(formula = as.formula(paste(i, \"~ .\")), data = data)\n",
      "\n",
      "Residuals:\n",
      "    Min      1Q  Median      3Q     Max \n",
      "-347.92 -125.98  -19.56   79.40  373.48 \n",
      "\n",
      "Coefficients:\n",
      "              Estimate Std. Error t value Pr(>|t|)\n",
      "(Intercept) -2.136e+03  2.191e+03  -0.975    0.350\n",
      "POW          6.072e+00  1.022e+01   0.594    0.564\n",
      "LEN         -1.502e+00  6.913e+00  -0.217    0.832\n",
      "WID          9.896e+00  2.204e+01   0.449    0.662\n",
      "WT           1.496e+00  1.251e+00   1.196    0.257\n",
      "MAX.SP       6.213e+00  1.185e+01   0.524    0.610\n",
      "PRICE       -9.981e-03  1.580e-02  -0.631    0.541\n",
      "\n",
      "Residual standard error: 235.1 on 11 degrees of freedom\n",
      "Multiple R-squared:  0.7442,\tAdjusted R-squared:  0.6046 \n",
      "F-statistic: 5.333 on 6 and 11 DF,  p-value: 0.008311\n",
      "\n",
      "\n",
      "\n",
      "POW\n",
      "Call:\n",
      "lm(formula = as.formula(paste(i, \"~ .\")), data = data)\n",
      "\n",
      "Residuals:\n",
      "    Min      1Q  Median      3Q     Max \n",
      "-9.3297 -3.6945  0.2192  3.4855 13.0372 \n",
      "\n",
      "Coefficients:\n",
      "              Estimate Std. Error t value Pr(>|t|)    \n",
      "(Intercept) -1.971e+01  6.607e+01  -0.298 0.771014    \n",
      "CYL          5.125e-03  8.623e-03   0.594 0.564252    \n",
      "LEN         -3.973e-02  2.009e-01  -0.198 0.846870    \n",
      "WID         -7.780e-01  6.021e-01  -1.292 0.222801    \n",
      "WT           6.571e-02  3.315e-02   1.982 0.073022 .  \n",
      "MAX.SP       9.401e-01  2.027e-01   4.638 0.000719 ***\n",
      "PRICE        6.782e-04  4.203e-04   1.613 0.134938    \n",
      "---\n",
      "Signif. codes:  0 ‘***’ 0.001 ‘**’ 0.01 ‘*’ 0.05 ‘.’ 0.1 ‘ ’ 1\n",
      "\n",
      "Residual standard error: 6.831 on 11 degrees of freedom\n",
      "Multiple R-squared:  0.9273,\tAdjusted R-squared:  0.8876 \n",
      "F-statistic: 23.38 on 6 and 11 DF,  p-value: 1.178e-05\n",
      "\n",
      "\n",
      "\n",
      "LEN\n",
      "Call:\n",
      "lm(formula = as.formula(paste(i, \"~ .\")), data = data)\n",
      "\n",
      "Residuals:\n",
      "    Min      1Q  Median      3Q     Max \n",
      "-12.995  -6.969   2.316   6.527  12.235 \n",
      "\n",
      "Coefficients:\n",
      "              Estimate Std. Error t value Pr(>|t|)  \n",
      "(Intercept)  5.798e+00  9.936e+01   0.058   0.9545  \n",
      "CYL         -2.846e-03  1.309e-02  -0.217   0.8319  \n",
      "POW         -8.914e-02  4.509e-01  -0.198   0.8469  \n",
      "WID          1.862e+00  7.887e-01   2.361   0.0378 *\n",
      "WT           1.014e-01  4.912e-02   2.065   0.0633 .\n",
      "MAX.SP       1.450e-01  5.202e-01   0.279   0.7856  \n",
      "PRICE       -8.111e-05  6.998e-04  -0.116   0.9098  \n",
      "---\n",
      "Signif. codes:  0 ‘***’ 0.001 ‘**’ 0.01 ‘*’ 0.05 ‘.’ 0.1 ‘ ’ 1\n",
      "\n",
      "Residual standard error: 10.23 on 11 degrees of freedom\n",
      "Multiple R-squared:  0.8614,\tAdjusted R-squared:  0.7857 \n",
      "F-statistic: 11.39 on 6 and 11 DF,  p-value: 0.0003623\n",
      "\n",
      "\n",
      "\n",
      "WID\n",
      "Call:\n",
      "lm(formula = as.formula(paste(i, \"~ .\")), data = data)\n",
      "\n",
      "Residuals:\n",
      "    Min      1Q  Median      3Q     Max \n",
      "-4.0302 -2.6805  0.9993  2.3273  3.1016 \n",
      "\n",
      "Coefficients:\n",
      "              Estimate Std. Error t value Pr(>|t|)  \n",
      "(Intercept) 59.9965844 25.1164143   2.389   0.0359 *\n",
      "CYL          0.0018184  0.0040502   0.449   0.6622  \n",
      "POW         -0.1693720  0.1310807  -1.292   0.2228  \n",
      "LEN          0.1806128  0.0765091   2.361   0.0378 *\n",
      "WT           0.0060361  0.0179283   0.337   0.7427  \n",
      "MAX.SP       0.1863577  0.1525682   1.221   0.2474  \n",
      "PRICE        0.0001092  0.0002156   0.506   0.6225  \n",
      "---\n",
      "Signif. codes:  0 ‘***’ 0.001 ‘**’ 0.01 ‘*’ 0.05 ‘.’ 0.1 ‘ ’ 1\n",
      "\n",
      "Residual standard error: 3.187 on 11 degrees of freedom\n",
      "Multiple R-squared:  0.7672,\tAdjusted R-squared:  0.6402 \n",
      "F-statistic: 6.042 on 6 and 11 DF,  p-value: 0.005193\n",
      "\n",
      "\n",
      "\n",
      "WT\n",
      "Call:\n",
      "lm(formula = as.formula(paste(i, \"~ .\")), data = data)\n",
      "\n",
      "Residuals:\n",
      "    Min      1Q  Median      3Q     Max \n",
      "-81.332 -16.198   3.243  29.606  63.457 \n",
      "\n",
      "Coefficients:\n",
      "              Estimate Std. Error t value Pr(>|t|)  \n",
      "(Intercept) -1.042e+02  5.169e+02  -0.202   0.8440  \n",
      "CYL          7.694e-02  6.433e-02   1.196   0.2568  \n",
      "POW          4.005e+00  2.020e+00   1.982   0.0730 .\n",
      "LEN          2.754e+00  1.334e+00   2.065   0.0633 .\n",
      "WID          1.690e+00  5.019e+00   0.337   0.7427  \n",
      "MAX.SP      -5.180e+00  2.227e+00  -2.326   0.0402 *\n",
      "PRICE        1.842e-03  3.607e-03   0.511   0.6197  \n",
      "---\n",
      "Signif. codes:  0 ‘***’ 0.001 ‘**’ 0.01 ‘*’ 0.05 ‘.’ 0.1 ‘ ’ 1\n",
      "\n",
      "Residual standard error: 53.33 on 11 degrees of freedom\n",
      "Multiple R-squared:  0.9019,\tAdjusted R-squared:  0.8484 \n",
      "F-statistic: 16.85 on 6 and 11 DF,  p-value: 5.835e-05\n",
      "\n",
      "\n",
      "\n",
      "MAX.SP\n",
      "Call:\n",
      "lm(formula = as.formula(paste(i, \"~ .\")), data = data)\n",
      "\n",
      "Residuals:\n",
      "     Min       1Q   Median       3Q      Max \n",
      "-10.4931  -3.7495   0.7804   3.4690   7.8480 \n",
      "\n",
      "Coefficients:\n",
      "              Estimate Std. Error t value Pr(>|t|)    \n",
      "(Intercept) 40.0127691 56.1187727   0.713 0.490694    \n",
      "CYL          0.0039263  0.0074865   0.524 0.610372    \n",
      "POW          0.7038040  0.1517509   4.638 0.000719 ***\n",
      "LEN          0.0483803  0.1735424   0.279 0.785584    \n",
      "WID          0.6408961  0.5246919   1.221 0.247440    \n",
      "WT          -0.0636337  0.0273620  -2.326 0.040178 *  \n",
      "PRICE       -0.0001999  0.0003999  -0.500 0.626971    \n",
      "---\n",
      "Signif. codes:  0 ‘***’ 0.001 ‘**’ 0.01 ‘*’ 0.05 ‘.’ 0.1 ‘ ’ 1\n",
      "\n",
      "Residual standard error: 5.911 on 11 degrees of freedom\n",
      "Multiple R-squared:  0.8466,\tAdjusted R-squared:  0.763 \n",
      "F-statistic: 10.12 on 6 and 11 DF,  p-value: 0.0006139\n",
      "\n",
      "\n",
      "\n",
      "PRICE\n",
      "Call:\n",
      "lm(formula = as.formula(paste(i, \"~ .\")), data = data)\n",
      "\n",
      "Residuals:\n",
      "    Min      1Q  Median      3Q     Max \n",
      "-8289.8 -1720.6  -166.6  2913.3  5420.0 \n",
      "\n",
      "Coefficients:\n",
      "             Estimate Std. Error t value Pr(>|t|)\n",
      "(Intercept) -8239.363  42718.423  -0.193    0.851\n",
      "CYL            -3.505      5.551  -0.631    0.541\n",
      "POW           282.169    174.883   1.613    0.135\n",
      "LEN           -15.038    129.747  -0.116    0.910\n",
      "WID           208.694    412.048   0.506    0.623\n",
      "WT             12.575     24.622   0.511    0.620\n",
      "MAX.SP       -111.114    222.257  -0.500    0.627\n",
      "\n",
      "Residual standard error: 4406 on 11 degrees of freedom\n",
      "Multiple R-squared:  0.7091,\tAdjusted R-squared:  0.5504 \n",
      "F-statistic: 4.469 on 6 and 11 DF,  p-value: 0.0156\n",
      "\n",
      "\n",
      "\n"
     ]
    }
   ],
   "source": [
    "for (i in names(data)){\n",
    "    cat( i )\n",
    "    print(summary(lm(as.formula(paste(i, \"~ .\")), data=data)))\n",
    "    cat('\\n\\n')\n",
    "}\n",
    "\n",
    "#Интересно, что самый низкий коэффицент детерминации на целевой переменной: цена"
   ]
  },
  {
   "cell_type": "code",
   "execution_count": 9,
   "id": "340a9bdc-c185-420d-8225-d9b26b564a64",
   "metadata": {},
   "outputs": [
    {
     "data": {
      "text/plain": [
       "\n",
       "Call:\n",
       "lm(formula = PRICE ~ POW, data = data)\n",
       "\n",
       "Residuals:\n",
       "    Min      1Q  Median      3Q     Max \n",
       "-7779.8 -2483.9   256.4  1993.9  6479.2 \n",
       "\n",
       "Coefficients:\n",
       "            Estimate Std. Error t value Pr(>|t|)    \n",
       "(Intercept) 12363.65    4215.92   2.933  0.00976 ** \n",
       "POW           257.59      48.52   5.309 7.05e-05 ***\n",
       "---\n",
       "Signif. codes:  0 ‘***’ 0.001 ‘**’ 0.01 ‘*’ 0.05 ‘.’ 0.1 ‘ ’ 1\n",
       "\n",
       "Residual standard error: 4076 on 16 degrees of freedom\n",
       "Multiple R-squared:  0.6379,\tAdjusted R-squared:  0.6153 \n",
       "F-statistic: 28.19 on 1 and 16 DF,  p-value: 7.052e-05\n"
      ]
     },
     "metadata": {},
     "output_type": "display_data"
    }
   ],
   "source": [
    "# Пошаговая регрессия. \n",
    "# Частнная корреляция самая высокая PRICE c POW\n",
    "\n",
    "summary(lm(PRICE ~ POW , data = data))"
   ]
  },
  {
   "cell_type": "code",
   "execution_count": 10,
   "id": "b23c50b1-96f7-45f6-ae1f-5f8abfc11321",
   "metadata": {},
   "outputs": [],
   "source": [
    "RSS <- sum(residuals(lm(PRICE ~ POW, data = data))^2)"
   ]
  },
  {
   "cell_type": "code",
   "execution_count": 11,
   "id": "2fdee30e-10af-42e6-aff7-dc5a45410c90",
   "metadata": {},
   "outputs": [
    {
     "name": "stderr",
     "output_type": "stream",
     "text": [
      "Warning message in model.matrix.default(mt, mf, contrasts):\n",
      "“the response appeared on the right-hand side and was dropped”\n",
      "Warning message in model.matrix.default(mt, mf, contrasts):\n",
      "“problem with term 2 in model.matrix: no columns are assigned”\n"
     ]
    },
    {
     "data": {
      "text/html": [
       "<style>\n",
       ".list-inline {list-style: none; margin:0; padding: 0}\n",
       ".list-inline>li {display: inline-block}\n",
       ".list-inline>li:not(:last-child)::after {content: \"\\00b7\"; padding: 0 .5ex}\n",
       "</style>\n",
       "<ol class=list-inline><li>0.000607284152136698</li><li>0</li><li>1.32443642828161</li><li>1.03767323276241</li><li>2.33130905824922</li><li>1.3504179416112</li><li>0</li></ol>\n"
      ],
      "text/latex": [
       "\\begin{enumerate*}\n",
       "\\item 0.000607284152136698\n",
       "\\item 0\n",
       "\\item 1.32443642828161\n",
       "\\item 1.03767323276241\n",
       "\\item 2.33130905824922\n",
       "\\item 1.3504179416112\n",
       "\\item 0\n",
       "\\end{enumerate*}\n"
      ],
      "text/markdown": [
       "1. 0.000607284152136698\n",
       "2. 0\n",
       "3. 1.32443642828161\n",
       "4. 1.03767323276241\n",
       "5. 2.33130905824922\n",
       "6. 1.3504179416112\n",
       "7. 0\n",
       "\n",
       "\n"
      ],
      "text/plain": [
       "[1] 0.0006072842 0.0000000000 1.3244364283 1.0376732328 2.3313090582\n",
       "[6] 1.3504179416 0.0000000000"
      ]
     },
     "metadata": {},
     "output_type": "display_data"
    }
   ],
   "source": [
    "RSS_j <- numeric()\n",
    "\n",
    "for (i in names(data)){\n",
    "    RSS_j[i] <- sum((lm(as.formula(paste(\"PRICE ~ POW + \", i)), data=data)$residuals)^2)\n",
    "}\n",
    "\n",
    "F_j <- as.numeric(RSS) - as.numeric(RSS_j)\n",
    "\n",
    "F_j <- F_j / as.numeric(RSS_j)\n",
    "\n",
    "F_j <- F_j * (18-3)\n",
    "\n",
    "F_j\n",
    "\n",
    "#WT макс значение"
   ]
  },
  {
   "cell_type": "code",
   "execution_count": 12,
   "id": "3be2b2d4-4688-4df7-9ac4-3fa908da608f",
   "metadata": {},
   "outputs": [
    {
     "data": {
      "text/plain": [
       "\n",
       "Call:\n",
       "lm(formula = PRICE ~ POW + WT, data = data)\n",
       "\n",
       "Residuals:\n",
       "    Min      1Q  Median      3Q     Max \n",
       "-7148.2 -1874.6   296.3  2012.7  5263.7 \n",
       "\n",
       "Coefficients:\n",
       "            Estimate Std. Error t value Pr(>|t|)  \n",
       "(Intercept)  1775.60    8030.95   0.221   0.8280  \n",
       "POW           172.97      72.42   2.388   0.0305 *\n",
       "WT             16.45      10.77   1.527   0.1476  \n",
       "---\n",
       "Signif. codes:  0 ‘***’ 0.001 ‘**’ 0.01 ‘*’ 0.05 ‘.’ 0.1 ‘ ’ 1\n",
       "\n",
       "Residual standard error: 3916 on 15 degrees of freedom\n",
       "Multiple R-squared:  0.6866,\tAdjusted R-squared:  0.6448 \n",
       "F-statistic: 16.43 on 2 and 15 DF,  p-value: 0.0001661\n"
      ]
     },
     "metadata": {},
     "output_type": "display_data"
    }
   ],
   "source": [
    "summary(lm(PRICE ~ POW + WT , data = data))\n",
    "#WT Выводится как незначимый, но коэффицент детерминации вырос"
   ]
  },
  {
   "cell_type": "code",
   "execution_count": 13,
   "id": "dc90462a-0fee-411a-af79-549e4e971abf",
   "metadata": {},
   "outputs": [
    {
     "data": {
      "text/html": [
       "230064636.486772"
      ],
      "text/latex": [
       "230064636.486772"
      ],
      "text/markdown": [
       "230064636.486772"
      ],
      "text/plain": [
       "[1] 230064636"
      ]
     },
     "metadata": {},
     "output_type": "display_data"
    },
    {
     "name": "stderr",
     "output_type": "stream",
     "text": [
      "Warning message in model.matrix.default(mt, mf, contrasts):\n",
      "“the response appeared on the right-hand side and was dropped”\n",
      "Warning message in model.matrix.default(mt, mf, contrasts):\n",
      "“problem with term 2 in model.matrix: no columns are assigned”\n"
     ]
    },
    {
     "data": {
      "text/html": [
       "<style>\n",
       ".list-inline {list-style: none; margin:0; padding: 0}\n",
       ".list-inline>li {display: inline-block}\n",
       ".list-inline>li:not(:last-child)::after {content: \"\\00b7\"; padding: 0 .5ex}\n",
       "</style>\n",
       "<ol class=list-inline><li>-1.88270976691332</li><li>-1.88320032294122</li><li>-0.813338263842052</li><li>-1.04498174349935</li><li>0</li><li>-0.792350744353958</li><li>-1.88320032294122</li></ol>\n"
      ],
      "text/latex": [
       "\\begin{enumerate*}\n",
       "\\item -1.88270976691332\n",
       "\\item -1.88320032294122\n",
       "\\item -0.813338263842052\n",
       "\\item -1.04498174349935\n",
       "\\item 0\n",
       "\\item -0.792350744353958\n",
       "\\item -1.88320032294122\n",
       "\\end{enumerate*}\n"
      ],
      "text/markdown": [
       "1. -1.88270976691332\n",
       "2. -1.88320032294122\n",
       "3. -0.813338263842052\n",
       "4. -1.04498174349935\n",
       "5. 0\n",
       "6. -0.792350744353958\n",
       "7. -1.88320032294122\n",
       "\n",
       "\n"
      ],
      "text/plain": [
       "[1] -1.8827098 -1.8832003 -0.8133383 -1.0449817  0.0000000 -0.7923507 -1.8832003"
      ]
     },
     "metadata": {},
     "output_type": "display_data"
    }
   ],
   "source": [
    "RSS <- sum(residuals(lm(PRICE ~ POW + WT , data = data))^2)\n",
    "RSS\n",
    "RSS_j <- numeric()\n",
    "\n",
    "for (i in names(data)){\n",
    "    RSS_j[i] <- sum((lm(as.formula(paste(\"PRICE ~ POW + \", i)), data=data)$residuals)^2)\n",
    "}\n",
    "\n",
    "F_j <- as.numeric(RSS) - as.numeric(RSS_j)\n",
    "\n",
    "F_j <- F_j / as.numeric(RSS_j)\n",
    "\n",
    "F_j <- F_j * (18-4)\n",
    "\n",
    "F_j\n",
    "\n",
    "# Хватит добавлять факторы.\n",
    "# Првоерить отсутсвие свободного члена."
   ]
  },
  {
   "cell_type": "code",
   "execution_count": 14,
   "id": "99fae124-71da-4734-bc04-96be85022645",
   "metadata": {},
   "outputs": [
    {
     "data": {
      "text/plain": [
       "\n",
       "Call:\n",
       "lm(formula = PRICE ~ POW + WT - 1, data = data)\n",
       "\n",
       "Residuals:\n",
       "    Min      1Q  Median      3Q     Max \n",
       "-6961.7 -1818.2   262.7  2143.7  5212.9 \n",
       "\n",
       "Coefficients:\n",
       "    Estimate Std. Error t value Pr(>|t|)   \n",
       "POW  167.448     65.930   2.540  0.02185 * \n",
       "WT    18.508      5.271   3.512  0.00289 **\n",
       "---\n",
       "Signif. codes:  0 ‘***’ 0.001 ‘**’ 0.01 ‘*’ 0.05 ‘.’ 0.1 ‘ ’ 1\n",
       "\n",
       "Residual standard error: 3798 on 16 degrees of freedom\n",
       "Multiple R-squared:  0.9894,\tAdjusted R-squared:  0.9881 \n",
       "F-statistic: 745.4 on 2 and 16 DF,  p-value: < 2.2e-16\n"
      ]
     },
     "metadata": {},
     "output_type": "display_data"
    }
   ],
   "source": [
    "summary(lm(PRICE ~ POW + WT -1  , data = data))"
   ]
  },
  {
   "cell_type": "code",
   "execution_count": 15,
   "id": "693cf749-6268-446d-8104-3c90851bbeba",
   "metadata": {},
   "outputs": [
    {
     "data": {
      "text/html": [
       "230814384.56949"
      ],
      "text/latex": [
       "230814384.56949"
      ],
      "text/markdown": [
       "230814384.56949"
      ],
      "text/plain": [
       "[1] 230814385"
      ]
     },
     "metadata": {},
     "output_type": "display_data"
    },
    {
     "name": "stderr",
     "output_type": "stream",
     "text": [
      "Warning message in model.matrix.default(mt, mf, contrasts):\n",
      "“the response appeared on the right-hand side and was dropped”\n",
      "Warning message in model.matrix.default(mt, mf, contrasts):\n",
      "“problem with term 2 in model.matrix: no columns are assigned”\n"
     ]
    },
    {
     "data": {
      "text/html": [
       "<style>\n",
       ".list-inline {list-style: none; margin:0; padding: 0}\n",
       ".list-inline>li {display: inline-block}\n",
       ".list-inline>li:not(:last-child)::after {content: \"\\00b7\"; padding: 0 .5ex}\n",
       "</style>\n",
       "<ol class=list-inline><li>-6.46482224692785</li><li>-6.96403982572256</li><li>-1.19918371698716</li><li>-1.55005630923467</li><li>0</li><li>-3.59837533325581</li><li>-6.96403982572256</li></ol>\n"
      ],
      "text/latex": [
       "\\begin{enumerate*}\n",
       "\\item -6.46482224692785\n",
       "\\item -6.96403982572256\n",
       "\\item -1.19918371698716\n",
       "\\item -1.55005630923467\n",
       "\\item 0\n",
       "\\item -3.59837533325581\n",
       "\\item -6.96403982572256\n",
       "\\end{enumerate*}\n"
      ],
      "text/markdown": [
       "1. -6.46482224692785\n",
       "2. -6.96403982572256\n",
       "3. -1.19918371698716\n",
       "4. -1.55005630923467\n",
       "5. 0\n",
       "6. -3.59837533325581\n",
       "7. -6.96403982572256\n",
       "\n",
       "\n"
      ],
      "text/plain": [
       "[1] -6.464822 -6.964040 -1.199184 -1.550056  0.000000 -3.598375 -6.964040"
      ]
     },
     "metadata": {},
     "output_type": "display_data"
    }
   ],
   "source": [
    "RSS <- sum(residuals(lm(PRICE ~ POW + WT -1 , data = data))^2)\n",
    "RSS\n",
    "RSS_j <- numeric()\n",
    "\n",
    "for (i in names(data)){\n",
    "    RSS_j[i] <- sum((lm(as.formula(paste(\"PRICE ~ POW + \", i, \" -1\")), data=data)$residuals)^2)\n",
    "}\n",
    "\n",
    "F_j <- as.numeric(RSS) - as.numeric(RSS_j)\n",
    "\n",
    "F_j <- F_j / as.numeric(RSS_j)\n",
    "\n",
    "F_j <- F_j * (18-2)\n",
    "\n",
    "F_j"
   ]
  },
  {
   "cell_type": "code",
   "execution_count": 16,
   "id": "a4f46eb0-0fd7-4bf4-b28c-92744aeeeb4c",
   "metadata": {},
   "outputs": [
    {
     "data": {
      "text/plain": [
       "\n",
       "Call:\n",
       "lm(formula = PRICE ~ POW + WT - 1, data = data)\n",
       "\n",
       "Residuals:\n",
       "    Min      1Q  Median      3Q     Max \n",
       "-6961.7 -1818.2   262.7  2143.7  5212.9 \n",
       "\n",
       "Coefficients:\n",
       "    Estimate Std. Error t value Pr(>|t|)   \n",
       "POW  167.448     65.930   2.540  0.02185 * \n",
       "WT    18.508      5.271   3.512  0.00289 **\n",
       "---\n",
       "Signif. codes:  0 ‘***’ 0.001 ‘**’ 0.01 ‘*’ 0.05 ‘.’ 0.1 ‘ ’ 1\n",
       "\n",
       "Residual standard error: 3798 on 16 degrees of freedom\n",
       "Multiple R-squared:  0.9894,\tAdjusted R-squared:  0.9881 \n",
       "F-statistic: 745.4 on 2 and 16 DF,  p-value: < 2.2e-16\n"
      ]
     },
     "metadata": {},
     "output_type": "display_data"
    }
   ],
   "source": [
    "#Лучшая модель\n",
    "summary(lm(PRICE ~ POW + WT -1  , data = data))"
   ]
  },
  {
   "cell_type": "code",
   "execution_count": 17,
   "id": "f47c6b49-12c0-404f-a0a7-3f271c01ccb8",
   "metadata": {},
   "outputs": [
    {
     "name": "stdout",
     "output_type": "stream",
     "text": [
      "Start:  AIC=376.41\n",
      "PRICE ~ -1\n",
      "\n",
      "         Df  Sum of Sq        RSS    AIC\n",
      "+ WT      1 2.1413e+10 3.2387e+08 302.70\n",
      "+ POW     1 2.1328e+10 4.0870e+08 306.89\n",
      "+ MAX.SP  1 2.1227e+10 5.1015e+08 310.88\n",
      "+ LEN     1 2.1202e+10 5.3492e+08 311.73\n",
      "+ WID     1 2.1116e+10 6.2120e+08 314.42\n",
      "+ CYL     1 2.1088e+10 6.4839e+08 315.19\n",
      "<none>                 2.1737e+10 376.41\n",
      "\n",
      "Step:  AIC=302.7\n",
      "PRICE ~ WT - 1\n",
      "\n",
      "         Df Sum of Sq       RSS    AIC\n",
      "+ POW     1  93053269 230814385 298.60\n",
      "<none>                323867653 302.70\n",
      "+ CYL     1   7379268 316488385 304.28\n",
      "+ LEN     1   6574914 317292740 304.33\n",
      "+ WID     1   5768263 318099390 304.38\n",
      "+ MAX.SP  1   4435340 319432314 304.45\n",
      "\n",
      "Step:  AIC=298.6\n",
      "PRICE ~ WT + POW - 1\n",
      "\n",
      "         Df Sum of Sq       RSS    AIC\n",
      "<none>                230814385 298.60\n",
      "+ CYL     1   9630861 221183524 299.83\n",
      "+ WID     1   1064465 229749919 300.52\n",
      "+ LEN     1    738112 230076272 300.54\n",
      "+ MAX.SP  1     25338 230789047 300.60\n"
     ]
    }
   ],
   "source": [
    "regModel0 <- lm(PRICE ~ - 1, data = data)\n",
    "regModelfull <- lm(PRICE ~ ., data = data)\n",
    "stepForward <- step(regModel0, scope=list(lower=regModel0, upper=regModelfull), direction=\"forward\")"
   ]
  },
  {
   "cell_type": "code",
   "execution_count": 18,
   "id": "5aeafff8-08b8-481d-a8a4-ec7d08161acf",
   "metadata": {},
   "outputs": [
    {
     "data": {
      "text/html": [
       "'lm'"
      ],
      "text/latex": [
       "'lm'"
      ],
      "text/markdown": [
       "'lm'"
      ],
      "text/plain": [
       "[1] \"lm\""
      ]
     },
     "metadata": {},
     "output_type": "display_data"
    }
   ],
   "source": [
    "class(stepForward) # Он возращает лучшуб линеную модель."
   ]
  },
  {
   "cell_type": "code",
   "execution_count": 19,
   "id": "21ff4c68-e9b7-4293-8c97-11263b543b7b",
   "metadata": {},
   "outputs": [
    {
     "data": {
      "text/plain": [
       "\n",
       "Call:\n",
       "lm(formula = PRICE ~ WT + POW - 1, data = data)\n",
       "\n",
       "Residuals:\n",
       "    Min      1Q  Median      3Q     Max \n",
       "-6961.7 -1818.2   262.7  2143.7  5212.9 \n",
       "\n",
       "Coefficients:\n",
       "    Estimate Std. Error t value Pr(>|t|)   \n",
       "WT    18.508      5.271   3.512  0.00289 **\n",
       "POW  167.448     65.930   2.540  0.02185 * \n",
       "---\n",
       "Signif. codes:  0 ‘***’ 0.001 ‘**’ 0.01 ‘*’ 0.05 ‘.’ 0.1 ‘ ’ 1\n",
       "\n",
       "Residual standard error: 3798 on 16 degrees of freedom\n",
       "Multiple R-squared:  0.9894,\tAdjusted R-squared:  0.9881 \n",
       "F-statistic: 745.4 on 2 and 16 DF,  p-value: < 2.2e-16\n"
      ]
     },
     "metadata": {},
     "output_type": "display_data"
    }
   ],
   "source": [
    "summary(stepForward) # Как и у меня"
   ]
  },
  {
   "cell_type": "code",
   "execution_count": null,
   "id": "cbe9209a-d038-42b7-b0c6-f660b834616a",
   "metadata": {},
   "outputs": [],
   "source": []
  }
 ],
 "metadata": {
  "kernelspec": {
   "display_name": "R",
   "language": "R",
   "name": "ir"
  },
  "language_info": {
   "codemirror_mode": "r",
   "file_extension": ".r",
   "mimetype": "text/x-r-source",
   "name": "R",
   "pygments_lexer": "r",
   "version": "4.3.3"
  }
 },
 "nbformat": 4,
 "nbformat_minor": 5
}
