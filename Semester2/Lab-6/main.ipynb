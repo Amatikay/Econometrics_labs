{
 "cells": [
  {
   "cell_type": "code",
   "execution_count": 1,
   "id": "38318e7c-98d2-4f63-8c25-2ae0bc475a27",
   "metadata": {},
   "outputs": [
    {
     "data": {
      "text/html": [
       "<table class=\"dataframe\">\n",
       "<caption>A data.frame: 5 × 4</caption>\n",
       "<thead>\n",
       "\t<tr><th scope=col>Y1</th><th scope=col>Y2</th><th scope=col>X1</th><th scope=col>X2</th></tr>\n",
       "\t<tr><th scope=col>&lt;int&gt;</th><th scope=col>&lt;dbl&gt;</th><th scope=col>&lt;int&gt;</th><th scope=col>&lt;int&gt;</th></tr>\n",
       "</thead>\n",
       "<tbody>\n",
       "\t<tr><td>60</td><td>5.1</td><td>1300</td><td>62</td></tr>\n",
       "\t<tr><td>63</td><td>4.2</td><td>1300</td><td>56</td></tr>\n",
       "\t<tr><td>65</td><td>4.0</td><td>1500</td><td>56</td></tr>\n",
       "\t<tr><td>62</td><td>5.0</td><td>1600</td><td>63</td></tr>\n",
       "\t<tr><td>66</td><td>3.8</td><td>1800</td><td>50</td></tr>\n",
       "</tbody>\n",
       "</table>\n"
      ],
      "text/latex": [
       "A data.frame: 5 × 4\n",
       "\\begin{tabular}{llll}\n",
       " Y1 & Y2 & X1 & X2\\\\\n",
       " <int> & <dbl> & <int> & <int>\\\\\n",
       "\\hline\n",
       "\t 60 & 5.1 & 1300 & 62\\\\\n",
       "\t 63 & 4.2 & 1300 & 56\\\\\n",
       "\t 65 & 4.0 & 1500 & 56\\\\\n",
       "\t 62 & 5.0 & 1600 & 63\\\\\n",
       "\t 66 & 3.8 & 1800 & 50\\\\\n",
       "\\end{tabular}\n"
      ],
      "text/markdown": [
       "\n",
       "A data.frame: 5 × 4\n",
       "\n",
       "| Y1 &lt;int&gt; | Y2 &lt;dbl&gt; | X1 &lt;int&gt; | X2 &lt;int&gt; |\n",
       "|---|---|---|---|\n",
       "| 60 | 5.1 | 1300 | 62 |\n",
       "| 63 | 4.2 | 1300 | 56 |\n",
       "| 65 | 4.0 | 1500 | 56 |\n",
       "| 62 | 5.0 | 1600 | 63 |\n",
       "| 66 | 3.8 | 1800 | 50 |\n",
       "\n"
      ],
      "text/plain": [
       "  Y1 Y2  X1   X2\n",
       "1 60 5.1 1300 62\n",
       "2 63 4.2 1300 56\n",
       "3 65 4.0 1500 56\n",
       "4 62 5.0 1600 63\n",
       "5 66 3.8 1800 50"
      ]
     },
     "metadata": {},
     "output_type": "display_data"
    }
   ],
   "source": [
    "data <- read.csv(file = \"../Data/6_1.csv\", sep =\";\", dec= \",\")[,-1]\n",
    "data"
   ]
  },
  {
   "cell_type": "code",
   "execution_count": 2,
   "id": "c98b1c99-644d-4e8b-af21-f20f53b48d3a",
   "metadata": {},
   "outputs": [
    {
     "data": {
      "text/html": [
       "<style>\n",
       ".dl-inline {width: auto; margin:0; padding: 0}\n",
       ".dl-inline>dt, .dl-inline>dd {float: none; width: auto; display: inline-block}\n",
       ".dl-inline>dt::after {content: \":\\0020\"; padding-right: .5ex}\n",
       ".dl-inline>dt:not(:first-of-type) {padding-left: .5ex}\n",
       "</style><dl class=dl-inline><dt>(Intercept)</dt><dd>76.3449680836615</dd><dt>X1</dt><dd>0.00363710444112456</dd><dt>X2</dt><dd>-0.324052695911992</dd></dl>\n"
      ],
      "text/latex": [
       "\\begin{description*}\n",
       "\\item[(Intercept)] 76.3449680836615\n",
       "\\item[X1] 0.00363710444112456\n",
       "\\item[X2] -0.324052695911992\n",
       "\\end{description*}\n"
      ],
      "text/markdown": [
       "(Intercept)\n",
       ":   76.3449680836615X1\n",
       ":   0.00363710444112456X2\n",
       ":   -0.324052695911992\n",
       "\n"
      ],
      "text/plain": [
       " (Intercept)           X1           X2 \n",
       "76.344968084  0.003637104 -0.324052696 "
      ]
     },
     "metadata": {},
     "output_type": "display_data"
    },
    {
     "data": {
      "text/html": [
       "<style>\n",
       ".dl-inline {width: auto; margin:0; padding: 0}\n",
       ".dl-inline>dt, .dl-inline>dd {float: none; width: auto; display: inline-block}\n",
       ".dl-inline>dt::after {content: \":\\0020\"; padding-right: .5ex}\n",
       ".dl-inline>dt:not(:first-of-type) {padding-left: .5ex}\n",
       "</style><dl class=dl-inline><dt>(Intercept)</dt><dd>-2.21548281950291</dd><dt>X1</dt><dd>0.000191090588075511</dd><dt>X2</dt><dd>0.110607089501562</dd></dl>\n"
      ],
      "text/latex": [
       "\\begin{description*}\n",
       "\\item[(Intercept)] -2.21548281950291\n",
       "\\item[X1] 0.000191090588075511\n",
       "\\item[X2] 0.110607089501562\n",
       "\\end{description*}\n"
      ],
      "text/markdown": [
       "(Intercept)\n",
       ":   -2.21548281950291X1\n",
       ":   0.000191090588075511X2\n",
       ":   0.110607089501562\n",
       "\n"
      ],
      "text/plain": [
       "  (Intercept)            X1            X2 \n",
       "-2.2154828195  0.0001910906  0.1106070895 "
      ]
     },
     "metadata": {},
     "output_type": "display_data"
    }
   ],
   "source": [
    "coef1 <- lm(Y1 ~ X1 + X2, data = data)$coefficients\n",
    "coef2 <- lm(Y2 ~ X1 + X2, data = data)$coefficients\n",
    "coef1\n",
    "coef2"
   ]
  },
  {
   "cell_type": "code",
   "execution_count": 3,
   "id": "4c8dca83-499c-4dbc-8d07-9b366d6e4784",
   "metadata": {},
   "outputs": [],
   "source": [
    "a1 <- coef1[1]*(1-coef1[3] / coef2[3]) - coef2[1] * coef2[2] / coef1[2] - coef1[1]*((coef2[2] / coef1[2])^2)\n",
    "a2 <- coef2[1]-coef1[1]*(coef2[2]/coef1[2])\n",
    "\n",
    "b12 <- coef1[3] / coef2[2]\n",
    "b21 <- coef2[2] / coef1[2]\n",
    "\n",
    "c11 <- coef1[2]*(1 - b12*b21)\n",
    "c22 <- coef2[3]*(1 - b12*b21)"
   ]
  },
  {
   "cell_type": "code",
   "execution_count": 4,
   "id": "f38d6937-08ea-4895-a8ff-b8fe8b681b8d",
   "metadata": {},
   "outputs": [
    {
     "data": {
      "text/html": [
       "<strong>(Intercept):</strong> 299.923385229993"
      ],
      "text/latex": [
       "\\textbf{(Intercept):} 299.923385229993"
      ],
      "text/markdown": [
       "**(Intercept):** 299.923385229993"
      ],
      "text/plain": [
       "(Intercept) \n",
       "   299.9234 "
      ]
     },
     "metadata": {},
     "output_type": "display_data"
    },
    {
     "data": {
      "text/html": [
       "<strong>X2:</strong> -1695.80668088132"
      ],
      "text/latex": [
       "\\textbf{X2:} -1695.80668088132"
      ],
      "text/markdown": [
       "**X2:** -1695.80668088132"
      ],
      "text/plain": [
       "       X2 \n",
       "-1695.807 "
      ]
     },
     "metadata": {},
     "output_type": "display_data"
    },
    {
     "data": {
      "text/html": [
       "<strong>X1:</strong> 0.327689800353117"
      ],
      "text/latex": [
       "\\textbf{X1:} 0.327689800353117"
      ],
      "text/markdown": [
       "**X1:** 0.327689800353117"
      ],
      "text/plain": [
       "       X1 \n",
       "0.3276898 "
      ]
     },
     "metadata": {},
     "output_type": "display_data"
    },
    {
     "data": {
      "text/html": [
       "<strong>(Intercept):</strong> -6.22658700522772"
      ],
      "text/latex": [
       "\\textbf{(Intercept):} -6.22658700522772"
      ],
      "text/markdown": [
       "**(Intercept):** -6.22658700522772"
      ],
      "text/plain": [
       "(Intercept) \n",
       "  -6.226587 "
      ]
     },
     "metadata": {},
     "output_type": "display_data"
    },
    {
     "data": {
      "text/html": [
       "<strong>X1:</strong> 0.0525392083644504"
      ],
      "text/latex": [
       "\\textbf{X1:} 0.0525392083644504"
      ],
      "text/markdown": [
       "**X1:** 0.0525392083644504"
      ],
      "text/plain": [
       "        X1 \n",
       "0.05253921 "
      ]
     },
     "metadata": {},
     "output_type": "display_data"
    },
    {
     "data": {
      "text/html": [
       "<strong>X2:</strong> 9.96529400327025"
      ],
      "text/latex": [
       "\\textbf{X2:} 9.96529400327025"
      ],
      "text/markdown": [
       "**X2:** 9.96529400327025"
      ],
      "text/plain": [
       "      X2 \n",
       "9.965294 "
      ]
     },
     "metadata": {},
     "output_type": "display_data"
    }
   ],
   "source": [
    "a1\n",
    "b12\n",
    "c11\n",
    "\n",
    "a2\n",
    "b21\n",
    "c22"
   ]
  },
  {
   "cell_type": "code",
   "execution_count": 5,
   "id": "6a0a1021-51f3-4cb1-897e-93343284e645",
   "metadata": {},
   "outputs": [
    {
     "data": {
      "text/plain": [
       "\n",
       "Call:\n",
       "lm(formula = Y1 ~ ., data = data)\n",
       "\n",
       "Residuals:\n",
       "        1         2         3         4         5 \n",
       " 0.043031 -0.058063  0.048631 -0.035368  0.001768 \n",
       "\n",
       "Coefficients:\n",
       "              Estimate Std. Error t value Pr(>|t|)  \n",
       "(Intercept) 65.5019747  1.0294912  63.626   0.0100 *\n",
       "Y2          -4.8941898  0.2529069 -19.352   0.0329 *\n",
       "X1           0.0045723  0.0002629  17.393   0.0366 *\n",
       "X2           0.2172794  0.0298427   7.281   0.0869 .\n",
       "---\n",
       "Signif. codes:  0 ‘***’ 0.001 ‘**’ 0.01 ‘*’ 0.05 ‘.’ 0.1 ‘ ’ 1\n",
       "\n",
       "Residual standard error: 0.09403 on 1 degrees of freedom\n",
       "Multiple R-squared:  0.9996,\tAdjusted R-squared:  0.9984 \n",
       "F-statistic: 859.2 on 3 and 1 DF,  p-value: 0.02507\n"
      ]
     },
     "metadata": {},
     "output_type": "display_data"
    }
   ],
   "source": [
    "summary(lm(Y1~.,data=data))"
   ]
  },
  {
   "cell_type": "markdown",
   "id": "87dd2262-2ad6-4ef5-b8bd-4d35d2131eb3",
   "metadata": {},
   "source": [
    "# Часть 2"
   ]
  },
  {
   "cell_type": "code",
   "execution_count": 6,
   "id": "48393362-d52d-40bc-83fa-1c98f732f255",
   "metadata": {},
   "outputs": [
    {
     "data": {
      "text/html": [
       "<table class=\"dataframe\">\n",
       "<caption>A data.frame: 6 × 5</caption>\n",
       "<thead>\n",
       "\t<tr><th></th><th scope=col>Year</th><th scope=col>Dt</th><th scope=col>YT_1</th><th scope=col>Ct</th><th scope=col>YT</th></tr>\n",
       "\t<tr><th></th><th scope=col>&lt;int&gt;</th><th scope=col>&lt;dbl&gt;</th><th scope=col>&lt;dbl&gt;</th><th scope=col>&lt;dbl&gt;</th><th scope=col>&lt;dbl&gt;</th></tr>\n",
       "</thead>\n",
       "<tbody>\n",
       "\t<tr><th scope=row>1</th><td>1</td><td> -6.8</td><td>46.7</td><td> 7.4</td><td> 3.1</td></tr>\n",
       "\t<tr><th scope=row>2</th><td>2</td><td> 22.4</td><td> 3.1</td><td>30.4</td><td>22.8</td></tr>\n",
       "\t<tr><th scope=row>3</th><td>3</td><td>-17.3</td><td>22.8</td><td> 1.3</td><td> 7.8</td></tr>\n",
       "\t<tr><th scope=row>4</th><td>4</td><td> 12.0</td><td> 7.8</td><td> 8.7</td><td>21.4</td></tr>\n",
       "\t<tr><th scope=row>5</th><td>5</td><td>  5.9</td><td>21.4</td><td>25.8</td><td>17.8</td></tr>\n",
       "\t<tr><th scope=row>6</th><td>6</td><td> 44.7</td><td>17.8</td><td> 8.6</td><td>37.2</td></tr>\n",
       "</tbody>\n",
       "</table>\n"
      ],
      "text/latex": [
       "A data.frame: 6 × 5\n",
       "\\begin{tabular}{r|lllll}\n",
       "  & Year & Dt & YT\\_1 & Ct & YT\\\\\n",
       "  & <int> & <dbl> & <dbl> & <dbl> & <dbl>\\\\\n",
       "\\hline\n",
       "\t1 & 1 &  -6.8 & 46.7 &  7.4 &  3.1\\\\\n",
       "\t2 & 2 &  22.4 &  3.1 & 30.4 & 22.8\\\\\n",
       "\t3 & 3 & -17.3 & 22.8 &  1.3 &  7.8\\\\\n",
       "\t4 & 4 &  12.0 &  7.8 &  8.7 & 21.4\\\\\n",
       "\t5 & 5 &   5.9 & 21.4 & 25.8 & 17.8\\\\\n",
       "\t6 & 6 &  44.7 & 17.8 &  8.6 & 37.2\\\\\n",
       "\\end{tabular}\n"
      ],
      "text/markdown": [
       "\n",
       "A data.frame: 6 × 5\n",
       "\n",
       "| <!--/--> | Year &lt;int&gt; | Dt &lt;dbl&gt; | YT_1 &lt;dbl&gt; | Ct &lt;dbl&gt; | YT &lt;dbl&gt; |\n",
       "|---|---|---|---|---|---|\n",
       "| 1 | 1 |  -6.8 | 46.7 |  7.4 |  3.1 |\n",
       "| 2 | 2 |  22.4 |  3.1 | 30.4 | 22.8 |\n",
       "| 3 | 3 | -17.3 | 22.8 |  1.3 |  7.8 |\n",
       "| 4 | 4 |  12.0 |  7.8 |  8.7 | 21.4 |\n",
       "| 5 | 5 |   5.9 | 21.4 | 25.8 | 17.8 |\n",
       "| 6 | 6 |  44.7 | 17.8 |  8.6 | 37.2 |\n",
       "\n"
      ],
      "text/plain": [
       "  Year Dt    YT_1 Ct   YT  \n",
       "1 1     -6.8 46.7  7.4  3.1\n",
       "2 2     22.4  3.1 30.4 22.8\n",
       "3 3    -17.3 22.8  1.3  7.8\n",
       "4 4     12.0  7.8  8.7 21.4\n",
       "5 5      5.9 21.4 25.8 17.8\n",
       "6 6     44.7 17.8  8.6 37.2"
      ]
     },
     "metadata": {},
     "output_type": "display_data"
    }
   ],
   "source": [
    "data <- read.csv(file = \"../Data/6_2.csv\", sep =\";\", dec= \",\")\n",
    "head(data)"
   ]
  },
  {
   "cell_type": "code",
   "execution_count": 7,
   "id": "0a03aba4-411d-495c-baf9-8bd8371c7627",
   "metadata": {},
   "outputs": [
    {
     "data": {
      "text/plain": [
       "\n",
       "Call:\n",
       "lm(formula = Ct ~ Dt + YT_1, data = data)\n",
       "\n",
       "Coefficients:\n",
       "(Intercept)           Dt         YT_1  \n",
       "     8.6356       0.3384       0.2020  \n"
      ]
     },
     "metadata": {},
     "output_type": "display_data"
    },
    {
     "data": {
      "text/plain": [
       "\n",
       "Call:\n",
       "lm(formula = YT ~ Dt + YT_1, data = data)\n",
       "\n",
       "Coefficients:\n",
       "(Intercept)           Dt         YT_1  \n",
       "     8.2184       0.6688       0.2610  \n"
      ]
     },
     "metadata": {},
     "output_type": "display_data"
    }
   ],
   "source": [
    "model1 <- lm(Ct~Dt + YT_1, data = data)\n",
    "model1\n",
    "\n",
    "model2 <- lm(YT~Dt + YT_1, data = data)\n",
    "model2"
   ]
  },
  {
   "cell_type": "code",
   "execution_count": 9,
   "id": "1b0b2225-4330-4514-9c6e-d61428081a88",
   "metadata": {},
   "outputs": [
    {
     "data": {
      "text/plain": [
       "\n",
       "Call:\n",
       "lm(formula = YT ~ CD, data = data)\n",
       "\n",
       "Coefficients:\n",
       "(Intercept)           CD  \n",
       "     7.6878       0.5117  \n"
      ]
     },
     "metadata": {},
     "output_type": "display_data"
    }
   ],
   "source": [
    "CD = model1$fitted.values + data$Dt\n",
    "lm(YT~CD, data = data)"
   ]
  },
  {
   "cell_type": "code",
   "execution_count": null,
   "id": "5cb12f3b-41ee-4ed7-bb5b-d349a95d4faa",
   "metadata": {},
   "outputs": [],
   "source": []
  }
 ],
 "metadata": {
  "kernelspec": {
   "display_name": "R",
   "language": "R",
   "name": "ir"
  },
  "language_info": {
   "codemirror_mode": "r",
   "file_extension": ".r",
   "mimetype": "text/x-r-source",
   "name": "R",
   "pygments_lexer": "r",
   "version": "4.3.3"
  }
 },
 "nbformat": 4,
 "nbformat_minor": 5
}
