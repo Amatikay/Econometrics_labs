{
 "cells": [
  {
   "cell_type": "code",
   "execution_count": 1,
   "id": "6066a64a-b43b-4e75-bda2-e1c2a6c8f19e",
   "metadata": {},
   "outputs": [
    {
     "data": {
      "text/html": [
       "<table class=\"dataframe\">\n",
       "<caption>A data.frame: 20 × 3</caption>\n",
       "<thead>\n",
       "\t<tr><th scope=col>n</th><th scope=col>x</th><th scope=col>y</th></tr>\n",
       "\t<tr><th scope=col>&lt;int&gt;</th><th scope=col>&lt;dbl&gt;</th><th scope=col>&lt;dbl&gt;</th></tr>\n",
       "</thead>\n",
       "<tbody>\n",
       "\t<tr><td> 1</td><td>103</td><td>38.8</td></tr>\n",
       "\t<tr><td> 2</td><td>107</td><td>38.5</td></tr>\n",
       "\t<tr><td> 3</td><td>110</td><td>39.3</td></tr>\n",
       "\t<tr><td> 4</td><td>112</td><td>40.0</td></tr>\n",
       "\t<tr><td> 5</td><td>113</td><td>41.0</td></tr>\n",
       "\t<tr><td> 6</td><td>115</td><td>39.7</td></tr>\n",
       "\t<tr><td> 7</td><td>116</td><td>40.6</td></tr>\n",
       "\t<tr><td> 8</td><td>117</td><td>40.7</td></tr>\n",
       "\t<tr><td> 9</td><td>120</td><td>39.4</td></tr>\n",
       "\t<tr><td>10</td><td>122</td><td>40.0</td></tr>\n",
       "\t<tr><td>11</td><td>123</td><td>41.4</td></tr>\n",
       "\t<tr><td>12</td><td>126</td><td>41.0</td></tr>\n",
       "\t<tr><td>13</td><td>127</td><td>40.7</td></tr>\n",
       "\t<tr><td>14</td><td>128</td><td>41.9</td></tr>\n",
       "\t<tr><td>15</td><td>133</td><td>40.8</td></tr>\n",
       "\t<tr><td>16</td><td>138</td><td>42.1</td></tr>\n",
       "\t<tr><td>17</td><td>139</td><td>41.7</td></tr>\n",
       "\t<tr><td>18</td><td>140</td><td>41.1</td></tr>\n",
       "\t<tr><td>19</td><td>142</td><td>41.0</td></tr>\n",
       "\t<tr><td>20</td><td>150</td><td>42.4</td></tr>\n",
       "</tbody>\n",
       "</table>\n"
      ],
      "text/latex": [
       "A data.frame: 20 × 3\n",
       "\\begin{tabular}{lll}\n",
       " n & x & y\\\\\n",
       " <int> & <dbl> & <dbl>\\\\\n",
       "\\hline\n",
       "\t  1 & 103 & 38.8\\\\\n",
       "\t  2 & 107 & 38.5\\\\\n",
       "\t  3 & 110 & 39.3\\\\\n",
       "\t  4 & 112 & 40.0\\\\\n",
       "\t  5 & 113 & 41.0\\\\\n",
       "\t  6 & 115 & 39.7\\\\\n",
       "\t  7 & 116 & 40.6\\\\\n",
       "\t  8 & 117 & 40.7\\\\\n",
       "\t  9 & 120 & 39.4\\\\\n",
       "\t 10 & 122 & 40.0\\\\\n",
       "\t 11 & 123 & 41.4\\\\\n",
       "\t 12 & 126 & 41.0\\\\\n",
       "\t 13 & 127 & 40.7\\\\\n",
       "\t 14 & 128 & 41.9\\\\\n",
       "\t 15 & 133 & 40.8\\\\\n",
       "\t 16 & 138 & 42.1\\\\\n",
       "\t 17 & 139 & 41.7\\\\\n",
       "\t 18 & 140 & 41.1\\\\\n",
       "\t 19 & 142 & 41.0\\\\\n",
       "\t 20 & 150 & 42.4\\\\\n",
       "\\end{tabular}\n"
      ],
      "text/markdown": [
       "\n",
       "A data.frame: 20 × 3\n",
       "\n",
       "| n &lt;int&gt; | x &lt;dbl&gt; | y &lt;dbl&gt; |\n",
       "|---|---|---|\n",
       "|  1 | 103 | 38.8 |\n",
       "|  2 | 107 | 38.5 |\n",
       "|  3 | 110 | 39.3 |\n",
       "|  4 | 112 | 40.0 |\n",
       "|  5 | 113 | 41.0 |\n",
       "|  6 | 115 | 39.7 |\n",
       "|  7 | 116 | 40.6 |\n",
       "|  8 | 117 | 40.7 |\n",
       "|  9 | 120 | 39.4 |\n",
       "| 10 | 122 | 40.0 |\n",
       "| 11 | 123 | 41.4 |\n",
       "| 12 | 126 | 41.0 |\n",
       "| 13 | 127 | 40.7 |\n",
       "| 14 | 128 | 41.9 |\n",
       "| 15 | 133 | 40.8 |\n",
       "| 16 | 138 | 42.1 |\n",
       "| 17 | 139 | 41.7 |\n",
       "| 18 | 140 | 41.1 |\n",
       "| 19 | 142 | 41.0 |\n",
       "| 20 | 150 | 42.4 |\n",
       "\n"
      ],
      "text/plain": [
       "   n  x   y   \n",
       "1   1 103 38.8\n",
       "2   2 107 38.5\n",
       "3   3 110 39.3\n",
       "4   4 112 40.0\n",
       "5   5 113 41.0\n",
       "6   6 115 39.7\n",
       "7   7 116 40.6\n",
       "8   8 117 40.7\n",
       "9   9 120 39.4\n",
       "10 10 122 40.0\n",
       "11 11 123 41.4\n",
       "12 12 126 41.0\n",
       "13 13 127 40.7\n",
       "14 14 128 41.9\n",
       "15 15 133 40.8\n",
       "16 16 138 42.1\n",
       "17 17 139 41.7\n",
       "18 18 140 41.1\n",
       "19 19 142 41.0\n",
       "20 20 150 42.4"
      ]
     },
     "metadata": {},
     "output_type": "display_data"
    },
    {
     "data": {
      "image/png": "[encoded data removed]",
      "text/plain": [
       "plot without title"
      ]
     },
     "metadata": {
      "image/png": {
       "height": 420,
       "width": 420
      }
     },
     "output_type": "display_data"
    }
   ],
   "source": [
    "# Я не знаю как назывались перменные в изначальном файле, из за проблем с кодировкой. \n",
    "# Я переименовал их в x,y\n",
    "R_sqare_vector <- c()\n",
    "A_vector <- c()\n",
    "data <- read.csv(\"./Data/Non_lin.csv\",sep=\";\")\n",
    "data$x <- as.numeric(gsub(\",\", \".\", data$x))\n",
    "data$y <- as.numeric(gsub(\",\", \".\", data$y))\n",
    "data\n",
    "plot(data$y~data$x)"
   ]
  },
  {
   "cell_type": "markdown",
   "id": "054f96ca-357f-43b6-ac4f-e021f92be6ff",
   "metadata": {},
   "source": [
    "# Часть 1"
   ]
  },
  {
   "cell_type": "markdown",
   "id": "173e2068-1e61-45cd-b963-b09e52a1f8a5",
   "metadata": {},
   "source": [
    "$$y_{i} = a + b\\,x_{i} ​+ ε_{i}​, \\quad ε_{i}​ ∼ N(0,σ^2),\\quad i=\\overline{1,n}$$"
   ]
  },
  {
   "cell_type": "code",
   "execution_count": null,
   "id": "e7691912-8b8a-428a-9718-d1224a0fc4ab",
   "metadata": {},
   "outputs": [],
   "source": [
    "summary(lm(data$y~data$x))"
   ]
  },
  {
   "attachments": {},
   "cell_type": "markdown",
   "id": "9f2a7dfb-ba12-4d02-a880-009b5f07f81c",
   "metadata": {},
   "source": [
    "Коэффент детерминации <br>\n",
    "$ R^{2} = 1 - \\,\\frac{RSS}{TSS} $ <br>\n",
    "$ RSS = \\sum{(y_{i}-\\hat{y}_{i})^{2}}$ <br>\n",
    "$ TSS = \\sum{(y_{i}-\\overline{y}_{i})^{2}}$"
   ]
  },
  {
   "cell_type": "code",
   "execution_count": null,
   "id": "f0f98b46-97dc-4015-b7ce-c9b16d423bc4",
   "metadata": {},
   "outputs": [],
   "source": [
    "summary(lm(data$y~data$x))$r.squared "
   ]
  },
  {
   "cell_type": "markdown",
   "id": "e752520f-b153-45e2-b733-0fbe0bef036b",
   "metadata": {},
   "source": [
    "Ошибка аппроксимации\n",
    "$$ A = \\frac{1}{n}\\, \\sum{|{\\frac{y_{i} - \\hat{y}_{i} }{y_i}  } | } \\times 100\\%$$"
   ]
  },
  {
   "cell_type": "code",
   "execution_count": null,
   "id": "2ca9aa12-4f73-4ff1-b1ec-76506f3445e2",
   "metadata": {},
   "outputs": [],
   "source": [
    "#?lm() Не вижу ошибку апроксимации"
   ]
  },
  {
   "cell_type": "code",
   "execution_count": null,
   "id": "4d41fc1d-33cf-4bbf-8381-69658e29ec87",
   "metadata": {},
   "outputs": [],
   "source": [
    "A <- (1/max(data$n)) * sum(abs( data$y - lm(data$x~data$y)$fitted.values ) / data$y)\n",
    "A"
   ]
  },
  {
   "cell_type": "code",
   "execution_count": null,
   "id": "456a4a94-3596-45c5-9432-4c12f7fab660",
   "metadata": {},
   "outputs": [],
   "source": [
    "R_sqare_vector <- c(R_sqare_vector,summary(lm(data$y~data$x))$r.squared)\n",
    "A_vector <- c(A_vector, A)"
   ]
  },
  {
   "cell_type": "markdown",
   "id": "c5ae2b89-366b-4388-9f26-caf1cc657be2",
   "metadata": {},
   "source": [
    "# Часть 2"
   ]
  },
  {
   "cell_type": "markdown",
   "id": "69af00ce-3157-423e-bed5-42586fb74bfb",
   "metadata": {},
   "source": [
    "$$y_{i} = a\\,x_{i}^{b}\\,ε_{i}​, \\quad ln(ε_{i})​ ∼ N(0,σ^2),\\quad i=\\overline{1,n}$$"
   ]
  },
  {
   "cell_type": "code",
   "execution_count": null,
   "id": "f579860e-5a72-4811-9f52-99d0e1328080",
   "metadata": {},
   "outputs": [],
   "source": [
    "x <- data$x\n",
    "y <- data$y"
   ]
  },
  {
   "cell_type": "code",
   "execution_count": null,
   "id": "483611bc-1d0d-4ebc-9779-bd71ed6d9c7f",
   "metadata": {},
   "outputs": [],
   "source": [
    "x <- log(x)\n",
    "y <- log(y)"
   ]
  },
  {
   "cell_type": "code",
   "execution_count": null,
   "id": "55ae7155-d2e5-414e-8485-98f7fa320633",
   "metadata": {},
   "outputs": [],
   "source": [
    "summary(lm(y~x))"
   ]
  },
  {
   "attachments": {},
   "cell_type": "markdown",
   "id": "5b9f15bf-81a8-4ec3-beb7-4e3e3682c9f8",
   "metadata": {},
   "source": [
    "Коэффент детерминации <br>\n",
    "$ R^{2} = 1 - \\,\\frac{RSS}{TSS} $ <br>\n",
    "$ RSS = \\sum{(y_{i}-\\hat{y}_{i})^{2}}$ <br>\n",
    "$ TSS = \\sum{(y_{i}-\\overline{y}_{i})^{2}}$"
   ]
  },
  {
   "cell_type": "code",
   "execution_count": null,
   "id": "f69a8999-55d8-42d4-9536-aa3b76c057f7",
   "metadata": {},
   "outputs": [],
   "source": [
    "summary(lm(y~x))$r.squared "
   ]
  },
  {
   "cell_type": "markdown",
   "id": "1808dda6-15e3-4f22-a438-a4fc6ed90a51",
   "metadata": {},
   "source": [
    "Ошибка аппроксимации\n",
    "$$ A = \\frac{1}{n}\\, \\sum{|{\\frac{y_{i} - \\hat{y}_{i} }{y_i}  } | } \\times 100\\%$$"
   ]
  },
  {
   "cell_type": "code",
   "execution_count": null,
   "id": "e0eb2927-f2b6-4c11-8ea7-224be14bc0c4",
   "metadata": {},
   "outputs": [],
   "source": [
    "A <- (1/max(data$n)) * sum(abs(y - lm(y~x)$fitted.values ) / y)\n",
    "A"
   ]
  },
  {
   "cell_type": "code",
   "execution_count": null,
   "id": "af24fb6f-c010-42dd-bc7f-653a0965429e",
   "metadata": {},
   "outputs": [],
   "source": [
    "R_sqare_vector <- c(R_sqare_vector, summary(lm(y~x))$r.squared)\n",
    "A_vector <- c(A_vector, A)"
   ]
  },
  {
   "cell_type": "markdown",
   "id": "877f9421-5392-4d4f-89bd-acff09e5bf58",
   "metadata": {},
   "source": [
    "# Часть 3"
   ]
  },
  {
   "cell_type": "markdown",
   "id": "1522b911-e814-4b2a-859d-06675e3113bc",
   "metadata": {},
   "source": [
    "$$y_{i} = a\\,e^{b\\,x_{i}}\\,ε_{i}​, \\quad ln(ε_{i})​ ∼ N(0,σ^2),\\quad i=\\overline{1,n}$$"
   ]
  },
  {
   "cell_type": "code",
   "execution_count": null,
   "id": "57e5497b-9b37-4d19-9fca-eedb3f89e2bd",
   "metadata": {},
   "outputs": [],
   "source": [
    "x <- data$x\n",
    "y <- data$y"
   ]
  },
  {
   "cell_type": "code",
   "execution_count": null,
   "id": "bb486d59-8df9-41da-8aca-548ea493df21",
   "metadata": {},
   "outputs": [],
   "source": [
    "y <- log(y)"
   ]
  },
  {
   "cell_type": "code",
   "execution_count": null,
   "id": "0059b08f-128e-4127-ace1-c5c866f2c895",
   "metadata": {},
   "outputs": [],
   "source": [
    "summary(lm(y~x))"
   ]
  },
  {
   "attachments": {},
   "cell_type": "markdown",
   "id": "820f48f1-cb41-4e59-a7bb-4f6380a7e05e",
   "metadata": {},
   "source": [
    "Коэффент детерминации <br>\n",
    "$ R^{2} = 1 - \\,\\frac{RSS}{TSS} $ <br>\n",
    "$ RSS = \\sum{(y_{i}-\\hat{y}_{i})^{2}}$ <br>\n",
    "$ TSS = \\sum{(y_{i}-\\overline{y}_{i})^{2}}$"
   ]
  },
  {
   "cell_type": "code",
   "execution_count": null,
   "id": "6b6c957d-864b-40fb-bb1d-5fce7a78d309",
   "metadata": {},
   "outputs": [],
   "source": [
    "summary(lm(y~x))$r.squared "
   ]
  },
  {
   "cell_type": "markdown",
   "id": "1eef1cab-6b95-4743-916e-c22c80dda4ee",
   "metadata": {},
   "source": [
    "Ошибка аппроксимации\n",
    "$$ A = \\frac{1}{n}\\, \\sum{|{\\frac{y_{i} - \\hat{y}_{i} }{y_i}  } | } \\times 100\\%$$"
   ]
  },
  {
   "cell_type": "code",
   "execution_count": null,
   "id": "30cbed6e-2226-45fb-b815-e89b068a55bd",
   "metadata": {},
   "outputs": [],
   "source": [
    "A <- (1/max(data$n)) * sum(abs( data$y - lm(y~x)$fitted.values ) / y)\n",
    "A"
   ]
  },
  {
   "cell_type": "code",
   "execution_count": null,
   "id": "7f5f7281-e6c7-4f9e-b8c7-eabb4166e51d",
   "metadata": {},
   "outputs": [],
   "source": [
    "R_sqare_vector <- c(R_sqare_vector, summary(lm(y~x))$r.squared)\n",
    "A_vector <- c(A_vector, A)"
   ]
  },
  {
   "cell_type": "markdown",
   "id": "746f3598-f9d3-44f5-8797-42b198425b8e",
   "metadata": {},
   "source": [
    "# Часть 4"
   ]
  },
  {
   "cell_type": "markdown",
   "id": "058ddb87-b829-4a1d-872d-120d7f5460ad",
   "metadata": {},
   "source": [
    "$$y_{i} = a+\\,b\\,ln(x_{i})\\,+\\,ε_{i}​, \\quad ε_{i} ∼ N(0,σ^2),\\quad i=\\overline{1,n}$$"
   ]
  },
  {
   "cell_type": "code",
   "execution_count": null,
   "id": "2c4a40db-c965-4e98-bb8f-85da7523c213",
   "metadata": {},
   "outputs": [],
   "source": [
    "x <- data$x\n",
    "y <- data$y"
   ]
  },
  {
   "cell_type": "code",
   "execution_count": null,
   "id": "e3a68bd5-feac-4ae7-9d85-09b19daa204e",
   "metadata": {},
   "outputs": [],
   "source": [
    "x <- log(x)"
   ]
  },
  {
   "cell_type": "code",
   "execution_count": null,
   "id": "69245bad-67a8-49d7-86e7-cedd22a1294c",
   "metadata": {},
   "outputs": [],
   "source": [
    "summary(lm(y~x))"
   ]
  },
  {
   "attachments": {},
   "cell_type": "markdown",
   "id": "0c1b1c90-5cf6-411c-809c-74f3252107ed",
   "metadata": {},
   "source": [
    "Коэффент детерминации <br>\n",
    "$ R^{2} = 1 - \\,\\frac{RSS}{TSS} $ <br>\n",
    "$ RSS = \\sum{(y_{i}-\\hat{y}_{i})^{2}}$ <br>\n",
    "$ TSS = \\sum{(y_{i}-\\overline{y}_{i})^{2}}$"
   ]
  },
  {
   "cell_type": "code",
   "execution_count": null,
   "id": "28b0e299-3185-40cc-b80e-ef78d6ed9101",
   "metadata": {},
   "outputs": [],
   "source": [
    "summary(lm(y~x))$r.squared "
   ]
  },
  {
   "cell_type": "markdown",
   "id": "ab135730-cae7-4acd-b559-63e2f7caaa85",
   "metadata": {},
   "source": [
    "Ошибка аппроксимации\n",
    "$$ A = \\frac{1}{n}\\, \\sum{|{\\frac{y_{i} - \\hat{y}_{i} }{y_i}  } | } \\times 100\\%$$"
   ]
  },
  {
   "cell_type": "code",
   "execution_count": null,
   "id": "732d1ad2-a4f4-4a64-bc95-1a1b3090fbd1",
   "metadata": {},
   "outputs": [],
   "source": [
    "A <- (1/max(data$n)) * sum(abs(y-lm(y~x)$fitted.values)/y)\n",
    "A"
   ]
  },
  {
   "cell_type": "code",
   "execution_count": null,
   "id": "c181af75-359f-48fa-bd4c-5e0e9851d583",
   "metadata": {},
   "outputs": [],
   "source": [
    "R_sqare_vector <- c(R_sqare_vector, summary(lm(y~x))$r.squared)\n",
    "A_vector <- c(A_vector, A)"
   ]
  },
  {
   "cell_type": "markdown",
   "id": "9980e9db-3bfd-4bc5-9bc8-7251a5f0710a",
   "metadata": {},
   "source": [
    "# Часть 5"
   ]
  },
  {
   "cell_type": "markdown",
   "id": "ffaf247b-a467-41c2-9fd3-e3770bcf3e38",
   "metadata": {},
   "source": [
    "Параболическая"
   ]
  },
  {
   "cell_type": "markdown",
   "id": "b26dc17c-5cc9-4263-8593-366fd454db28",
   "metadata": {},
   "source": [
    "$$y_{i} = a+\\, \\frac{b}{x_{i}}\\,+\\,ε_{i}​, \\quad ε_{i} ∼ N(0,σ^2),\\quad i=\\overline{1,n}$$"
   ]
  },
  {
   "cell_type": "code",
   "execution_count": null,
   "id": "d3fb8a79-5e89-4b63-842c-5f30ed3c5529",
   "metadata": {},
   "outputs": [],
   "source": [
    "x <- data$x\n",
    "y <- data$y"
   ]
  },
  {
   "cell_type": "code",
   "execution_count": null,
   "id": "fb56873f-4e02-474d-af23-e258fd24c4e7",
   "metadata": {},
   "outputs": [],
   "source": [
    "x <- sqrt(x)"
   ]
  },
  {
   "cell_type": "code",
   "execution_count": null,
   "id": "08709eef-5d78-4c96-bacd-8597bbc77d12",
   "metadata": {},
   "outputs": [],
   "source": [
    "summary(lm(y~x))"
   ]
  },
  {
   "attachments": {},
   "cell_type": "markdown",
   "id": "73b9f194-772b-4484-9a95-a9d364dff962",
   "metadata": {},
   "source": [
    "Коэффент детерминации <br>\n",
    "$ R^{2} = 1 - \\,\\frac{RSS}{TSS} $ <br>\n",
    "$ RSS = \\sum{(y_{i}-\\hat{y}_{i})^{2}}$ <br>\n",
    "$ TSS = \\sum{(y_{i}-\\overline{y}_{i})^{2}}$"
   ]
  },
  {
   "cell_type": "code",
   "execution_count": null,
   "id": "96149c17-2f43-4044-b919-2bd39cfa68d4",
   "metadata": {},
   "outputs": [],
   "source": [
    "summary(lm(y~x))$r.squared "
   ]
  },
  {
   "cell_type": "markdown",
   "id": "05df4b2d-8f7e-4c29-965f-433421596622",
   "metadata": {},
   "source": [
    "Ошибка аппроксимации\n",
    "$$ A = \\frac{1}{n}\\, \\sum{|{\\frac{y_{i} - \\hat{y}_{i} }{y_i}  } | } \\times 100\\%$$"
   ]
  },
  {
   "cell_type": "code",
   "execution_count": null,
   "id": "cc292b17-39a1-48a1-934c-4178affcfac7",
   "metadata": {},
   "outputs": [],
   "source": [
    "A <- (1/max(data$n)) * sum(abs( y - lm(y~x)$fitted.values ) / y)\n",
    "A"
   ]
  },
  {
   "cell_type": "code",
   "execution_count": null,
   "id": "860f5616-0f3a-4586-bb17-215e679f22e5",
   "metadata": {},
   "outputs": [],
   "source": [
    "R_sqare_vector <- c(R_sqare_vector, summary(lm(y~x))$r.squared)\n",
    "A_vector <- c(A_vector, A)"
   ]
  },
  {
   "cell_type": "markdown",
   "id": "a71af93c-b4e5-4d1c-9d89-bf4a513b2851",
   "metadata": {},
   "source": [
    "# Часть 6"
   ]
  },
  {
   "cell_type": "markdown",
   "id": "2fa13ef7-4218-46fb-b567-5f945a60429a",
   "metadata": {},
   "source": [
    "$$y_{i} = a+\\, \\frac{b}{x_{i}}\\,+\\,ε_{i}​, \\quad ε_{i} ∼ N(0,σ^2),\\quad i=\\overline{1,n}$$"
   ]
  },
  {
   "cell_type": "code",
   "execution_count": null,
   "id": "846c65c8-c043-4988-bcad-689966e2a5c2",
   "metadata": {},
   "outputs": [],
   "source": [
    "x <- data$x\n",
    "y <- data$y"
   ]
  },
  {
   "cell_type": "code",
   "execution_count": null,
   "id": "6698928c-3b76-427f-96fc-783af376651f",
   "metadata": {},
   "outputs": [],
   "source": [
    "x1 <- 1/x"
   ]
  },
  {
   "cell_type": "code",
   "execution_count": null,
   "id": "1042525e-ec20-4597-815a-c7124c554987",
   "metadata": {},
   "outputs": [],
   "source": [
    "summary(lm(y~1))"
   ]
  },
  {
   "attachments": {},
   "cell_type": "markdown",
   "id": "b8ca8810-450a-494f-bd61-adbead3b66c7",
   "metadata": {},
   "source": [
    "Коэффент детерминации <br>\n",
    "$ R^{2} = 1 - \\,\\frac{RSS}{TSS} $ <br>\n",
    "$ RSS = \\sum{(y_{i}-\\hat{y}_{i})^{2}}$ <br>\n",
    "$ TSS = \\sum{(y_{i}-\\overline{y}_{i})^{2}}$"
   ]
  },
  {
   "cell_type": "code",
   "execution_count": null,
   "id": "8cbbffe7-4882-4198-bdbc-b9d78bcaec27",
   "metadata": {},
   "outputs": [],
   "source": [
    "summary(lm(y~x1))$r.squared "
   ]
  },
  {
   "cell_type": "markdown",
   "id": "51c4d128-c5c9-4acb-a75a-f89ccdd5e132",
   "metadata": {},
   "source": [
    "Ошибка аппроксимации\n",
    "$$ A = \\frac{1}{n}\\, \\sum{|{\\frac{y_{i} - \\hat{y}_{i} }{y_i}  } | } \\times 100\\%$$"
   ]
  },
  {
   "cell_type": "code",
   "execution_count": null,
   "id": "d5138070-64b2-491e-8534-816f508dd6b3",
   "metadata": {},
   "outputs": [],
   "source": [
    "A <- (1/max(data$n)) * sum(abs( y - lm(y~x1)$fitted.values ) / y)\n",
    "A"
   ]
  },
  {
   "cell_type": "code",
   "execution_count": null,
   "id": "e1430f9b-b865-4dce-9d21-31a44e2463e6",
   "metadata": {},
   "outputs": [],
   "source": [
    "R_sqare_vector <- c(R_sqare_vector, summary(lm(y~x))$r.squared)\n",
    "A_vector <- c(A_vector, A)"
   ]
  },
  {
   "cell_type": "markdown",
   "id": "7e8f4e4d-46bd-4601-9552-3309d5201ad5",
   "metadata": {},
   "source": [
    "# Анализ результатов"
   ]
  },
  {
   "cell_type": "code",
   "execution_count": null,
   "id": "8935b370-fec3-4ae9-9015-8d02a0b33ddb",
   "metadata": {},
   "outputs": [],
   "source": [
    "R_sqare_vector\n",
    "A_vector"
   ]
  },
  {
   "cell_type": "code",
   "execution_count": null,
   "id": "1da85fc8-75a4-49b1-8008-70f00b1cc8a0",
   "metadata": {},
   "outputs": [],
   "source": [
    "max(R_sqare_vector)\n",
    "min(A_vector)"
   ]
  },
  {
   "cell_type": "markdown",
   "id": "b01bc35a-6160-4144-9231-03bbaa6ebf9f",
   "metadata": {},
   "source": [
    "---"
   ]
  },
  {
   "cell_type": "markdown",
   "id": "4502465e-1bd7-476c-a807-0a3cb17cdfdd",
   "metadata": {},
   "source": [
    "## Степенная"
   ]
  },
  {
   "cell_type": "code",
   "execution_count": null,
   "id": "16ddf026-5101-4185-bd32-6c139d63cc50",
   "metadata": {},
   "outputs": [],
   "source": [
    "x <- data$x\n",
    "y <- data$y"
   ]
  },
  {
   "cell_type": "code",
   "execution_count": null,
   "id": "39237802-6a20-49dc-b978-76c8d4e3dfbf",
   "metadata": {},
   "outputs": [],
   "source": [
    "x <- log(x)\n",
    "y <- log(y)"
   ]
  },
  {
   "cell_type": "code",
   "execution_count": null,
   "id": "2fbe2288-e7df-4b04-b954-fd31a2f0be9c",
   "metadata": {},
   "outputs": [],
   "source": [
    "model <- lm(y ~ x)\n",
    "predictions <- predict(model, interval = \"confidence\", level = 0.95)\n",
    "plot(x, y)\n",
    "abline(model, col = \"blue\") \n",
    "lines(x, predictions[, \"lwr\"], col = \"red\", lty = 2)\n",
    "lines(x, predictions[, \"upr\"], col = \"red\", lty = 2)"
   ]
  },
  {
   "cell_type": "markdown",
   "id": "f79aef4a-989f-4323-a75b-aeb59824420d",
   "metadata": {},
   "source": [
    "## Логарифмическая"
   ]
  },
  {
   "cell_type": "code",
   "execution_count": null,
   "id": "82ea2848-b2dd-4655-a0fd-be21a5196624",
   "metadata": {},
   "outputs": [],
   "source": [
    "x <- data$x\n",
    "y <- data$y"
   ]
  },
  {
   "cell_type": "code",
   "execution_count": null,
   "id": "ca356a31-7fb6-4f8f-bcc4-c20717cb2fd1",
   "metadata": {},
   "outputs": [],
   "source": [
    "x <- log(x)"
   ]
  },
  {
   "cell_type": "code",
   "execution_count": null,
   "id": "cf99a26f-c57e-4346-9f67-a7686cdf2c13",
   "metadata": {},
   "outputs": [],
   "source": [
    "model <- lm(y ~ x)\n",
    "predictions <- predict(model, interval = \"confidence\", level = 0.95)\n",
    "plot(x, y)\n",
    "abline(model, col = \"blue\") \n",
    "lines(x, predictions[, \"lwr\"], col = \"red\", lty = 2)\n",
    "lines(x, predictions[, \"upr\"], col = \"red\", lty = 2)"
   ]
  },
  {
   "cell_type": "code",
   "execution_count": null,
   "id": "aa4ad946-67e0-47ef-bf51-4d5a357a714d",
   "metadata": {},
   "outputs": [],
   "source": []
  }
 ],
 "metadata": {
  "kernelspec": {
   "display_name": "R",
   "language": "R",
   "name": "ir"
  },
  "language_info": {
   "codemirror_mode": "r",
   "file_extension": ".r",
   "mimetype": "text/x-r-source",
   "name": "R",
   "pygments_lexer": "r",
   "version": "4.3.2"
  }
 },
 "nbformat": 4,
 "nbformat_minor": 5
}
